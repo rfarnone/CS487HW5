{
  "nbformat": 4,
  "nbformat_minor": 0,
  "metadata": {
    "accelerator": "GPU",
    "colab": {
      "provenance": [],
      "machine_shape": "hm"
    },
    "kernelspec": {
      "display_name": "Python 3",
      "name": "python3"
    },
    "language_info": {
      "name": "python"
    },
    "widgets": {
      "application/vnd.jupyter.widget-state+json": {
        "77c3219ead1b4025a17c43b201c1c876": {
          "model_module": "@jupyter-widgets/controls",
          "model_name": "HBoxModel",
          "model_module_version": "1.5.0",
          "state": {
            "_dom_classes": [],
            "_model_module": "@jupyter-widgets/controls",
            "_model_module_version": "1.5.0",
            "_model_name": "HBoxModel",
            "_view_count": null,
            "_view_module": "@jupyter-widgets/controls",
            "_view_module_version": "1.5.0",
            "_view_name": "HBoxView",
            "box_style": "",
            "children": [
              "IPY_MODEL_30d47b40037047c681168c42c5c30fee",
              "IPY_MODEL_80ed3934b58145919304cf8edaffeca0",
              "IPY_MODEL_07880aa8dfd545b492acdd57de418a27"
            ],
            "layout": "IPY_MODEL_3a5825ca59e047728c1390039d714398"
          }
        },
        "30d47b40037047c681168c42c5c30fee": {
          "model_module": "@jupyter-widgets/controls",
          "model_name": "HTMLModel",
          "model_module_version": "1.5.0",
          "state": {
            "_dom_classes": [],
            "_model_module": "@jupyter-widgets/controls",
            "_model_module_version": "1.5.0",
            "_model_name": "HTMLModel",
            "_view_count": null,
            "_view_module": "@jupyter-widgets/controls",
            "_view_module_version": "1.5.0",
            "_view_name": "HTMLView",
            "description": "",
            "description_tooltip": null,
            "layout": "IPY_MODEL_d9653de2e5a54d9b91c2de3f2f38f928",
            "placeholder": "​",
            "style": "IPY_MODEL_dea882988036491f9dab7352015fd875",
            "value": "JSMA: 100%"
          }
        },
        "80ed3934b58145919304cf8edaffeca0": {
          "model_module": "@jupyter-widgets/controls",
          "model_name": "FloatProgressModel",
          "model_module_version": "1.5.0",
          "state": {
            "_dom_classes": [],
            "_model_module": "@jupyter-widgets/controls",
            "_model_module_version": "1.5.0",
            "_model_name": "FloatProgressModel",
            "_view_count": null,
            "_view_module": "@jupyter-widgets/controls",
            "_view_module_version": "1.5.0",
            "_view_name": "ProgressView",
            "bar_style": "success",
            "description": "",
            "description_tooltip": null,
            "layout": "IPY_MODEL_f490d4b9ce6e4e748b478cd0f4bb0c3e",
            "max": 1000,
            "min": 0,
            "orientation": "horizontal",
            "style": "IPY_MODEL_c4973c181cca4077a4d8fa51c6e315c9",
            "value": 1000
          }
        },
        "07880aa8dfd545b492acdd57de418a27": {
          "model_module": "@jupyter-widgets/controls",
          "model_name": "HTMLModel",
          "model_module_version": "1.5.0",
          "state": {
            "_dom_classes": [],
            "_model_module": "@jupyter-widgets/controls",
            "_model_module_version": "1.5.0",
            "_model_name": "HTMLModel",
            "_view_count": null,
            "_view_module": "@jupyter-widgets/controls",
            "_view_module_version": "1.5.0",
            "_view_name": "HTMLView",
            "description": "",
            "description_tooltip": null,
            "layout": "IPY_MODEL_55907d7222d04e17b20541866ac61d03",
            "placeholder": "​",
            "style": "IPY_MODEL_e9916dd4be274ee18127bbbfa9fa4bef",
            "value": " 1000/1000 [00:31&lt;00:00, 32.79it/s]"
          }
        },
        "3a5825ca59e047728c1390039d714398": {
          "model_module": "@jupyter-widgets/base",
          "model_name": "LayoutModel",
          "model_module_version": "1.2.0",
          "state": {
            "_model_module": "@jupyter-widgets/base",
            "_model_module_version": "1.2.0",
            "_model_name": "LayoutModel",
            "_view_count": null,
            "_view_module": "@jupyter-widgets/base",
            "_view_module_version": "1.2.0",
            "_view_name": "LayoutView",
            "align_content": null,
            "align_items": null,
            "align_self": null,
            "border": null,
            "bottom": null,
            "display": null,
            "flex": null,
            "flex_flow": null,
            "grid_area": null,
            "grid_auto_columns": null,
            "grid_auto_flow": null,
            "grid_auto_rows": null,
            "grid_column": null,
            "grid_gap": null,
            "grid_row": null,
            "grid_template_areas": null,
            "grid_template_columns": null,
            "grid_template_rows": null,
            "height": null,
            "justify_content": null,
            "justify_items": null,
            "left": null,
            "margin": null,
            "max_height": null,
            "max_width": null,
            "min_height": null,
            "min_width": null,
            "object_fit": null,
            "object_position": null,
            "order": null,
            "overflow": null,
            "overflow_x": null,
            "overflow_y": null,
            "padding": null,
            "right": null,
            "top": null,
            "visibility": null,
            "width": null
          }
        },
        "d9653de2e5a54d9b91c2de3f2f38f928": {
          "model_module": "@jupyter-widgets/base",
          "model_name": "LayoutModel",
          "model_module_version": "1.2.0",
          "state": {
            "_model_module": "@jupyter-widgets/base",
            "_model_module_version": "1.2.0",
            "_model_name": "LayoutModel",
            "_view_count": null,
            "_view_module": "@jupyter-widgets/base",
            "_view_module_version": "1.2.0",
            "_view_name": "LayoutView",
            "align_content": null,
            "align_items": null,
            "align_self": null,
            "border": null,
            "bottom": null,
            "display": null,
            "flex": null,
            "flex_flow": null,
            "grid_area": null,
            "grid_auto_columns": null,
            "grid_auto_flow": null,
            "grid_auto_rows": null,
            "grid_column": null,
            "grid_gap": null,
            "grid_row": null,
            "grid_template_areas": null,
            "grid_template_columns": null,
            "grid_template_rows": null,
            "height": null,
            "justify_content": null,
            "justify_items": null,
            "left": null,
            "margin": null,
            "max_height": null,
            "max_width": null,
            "min_height": null,
            "min_width": null,
            "object_fit": null,
            "object_position": null,
            "order": null,
            "overflow": null,
            "overflow_x": null,
            "overflow_y": null,
            "padding": null,
            "right": null,
            "top": null,
            "visibility": null,
            "width": null
          }
        },
        "dea882988036491f9dab7352015fd875": {
          "model_module": "@jupyter-widgets/controls",
          "model_name": "DescriptionStyleModel",
          "model_module_version": "1.5.0",
          "state": {
            "_model_module": "@jupyter-widgets/controls",
            "_model_module_version": "1.5.0",
            "_model_name": "DescriptionStyleModel",
            "_view_count": null,
            "_view_module": "@jupyter-widgets/base",
            "_view_module_version": "1.2.0",
            "_view_name": "StyleView",
            "description_width": ""
          }
        },
        "f490d4b9ce6e4e748b478cd0f4bb0c3e": {
          "model_module": "@jupyter-widgets/base",
          "model_name": "LayoutModel",
          "model_module_version": "1.2.0",
          "state": {
            "_model_module": "@jupyter-widgets/base",
            "_model_module_version": "1.2.0",
            "_model_name": "LayoutModel",
            "_view_count": null,
            "_view_module": "@jupyter-widgets/base",
            "_view_module_version": "1.2.0",
            "_view_name": "LayoutView",
            "align_content": null,
            "align_items": null,
            "align_self": null,
            "border": null,
            "bottom": null,
            "display": null,
            "flex": null,
            "flex_flow": null,
            "grid_area": null,
            "grid_auto_columns": null,
            "grid_auto_flow": null,
            "grid_auto_rows": null,
            "grid_column": null,
            "grid_gap": null,
            "grid_row": null,
            "grid_template_areas": null,
            "grid_template_columns": null,
            "grid_template_rows": null,
            "height": null,
            "justify_content": null,
            "justify_items": null,
            "left": null,
            "margin": null,
            "max_height": null,
            "max_width": null,
            "min_height": null,
            "min_width": null,
            "object_fit": null,
            "object_position": null,
            "order": null,
            "overflow": null,
            "overflow_x": null,
            "overflow_y": null,
            "padding": null,
            "right": null,
            "top": null,
            "visibility": null,
            "width": null
          }
        },
        "c4973c181cca4077a4d8fa51c6e315c9": {
          "model_module": "@jupyter-widgets/controls",
          "model_name": "ProgressStyleModel",
          "model_module_version": "1.5.0",
          "state": {
            "_model_module": "@jupyter-widgets/controls",
            "_model_module_version": "1.5.0",
            "_model_name": "ProgressStyleModel",
            "_view_count": null,
            "_view_module": "@jupyter-widgets/base",
            "_view_module_version": "1.2.0",
            "_view_name": "StyleView",
            "bar_color": null,
            "description_width": ""
          }
        },
        "55907d7222d04e17b20541866ac61d03": {
          "model_module": "@jupyter-widgets/base",
          "model_name": "LayoutModel",
          "model_module_version": "1.2.0",
          "state": {
            "_model_module": "@jupyter-widgets/base",
            "_model_module_version": "1.2.0",
            "_model_name": "LayoutModel",
            "_view_count": null,
            "_view_module": "@jupyter-widgets/base",
            "_view_module_version": "1.2.0",
            "_view_name": "LayoutView",
            "align_content": null,
            "align_items": null,
            "align_self": null,
            "border": null,
            "bottom": null,
            "display": null,
            "flex": null,
            "flex_flow": null,
            "grid_area": null,
            "grid_auto_columns": null,
            "grid_auto_flow": null,
            "grid_auto_rows": null,
            "grid_column": null,
            "grid_gap": null,
            "grid_row": null,
            "grid_template_areas": null,
            "grid_template_columns": null,
            "grid_template_rows": null,
            "height": null,
            "justify_content": null,
            "justify_items": null,
            "left": null,
            "margin": null,
            "max_height": null,
            "max_width": null,
            "min_height": null,
            "min_width": null,
            "object_fit": null,
            "object_position": null,
            "order": null,
            "overflow": null,
            "overflow_x": null,
            "overflow_y": null,
            "padding": null,
            "right": null,
            "top": null,
            "visibility": null,
            "width": null
          }
        },
        "e9916dd4be274ee18127bbbfa9fa4bef": {
          "model_module": "@jupyter-widgets/controls",
          "model_name": "DescriptionStyleModel",
          "model_module_version": "1.5.0",
          "state": {
            "_model_module": "@jupyter-widgets/controls",
            "_model_module_version": "1.5.0",
            "_model_name": "DescriptionStyleModel",
            "_view_count": null,
            "_view_module": "@jupyter-widgets/base",
            "_view_module_version": "1.2.0",
            "_view_name": "StyleView",
            "description_width": ""
          }
        },
        "5481f2f6c56e4451808a6f36012ee857": {
          "model_module": "@jupyter-widgets/controls",
          "model_name": "HBoxModel",
          "model_module_version": "1.5.0",
          "state": {
            "_dom_classes": [],
            "_model_module": "@jupyter-widgets/controls",
            "_model_module_version": "1.5.0",
            "_model_name": "HBoxModel",
            "_view_count": null,
            "_view_module": "@jupyter-widgets/controls",
            "_view_module_version": "1.5.0",
            "_view_name": "HBoxView",
            "box_style": "",
            "children": [
              "IPY_MODEL_13f42781f00343498d4e20afd77de902",
              "IPY_MODEL_e165ac6cd8224f999c33e831b23a28c5",
              "IPY_MODEL_ca49d06737014c1da318c9d59b5335a0"
            ],
            "layout": "IPY_MODEL_55844fa5c096420181f36c4cdf5a08bc"
          }
        },
        "13f42781f00343498d4e20afd77de902": {
          "model_module": "@jupyter-widgets/controls",
          "model_name": "HTMLModel",
          "model_module_version": "1.5.0",
          "state": {
            "_dom_classes": [],
            "_model_module": "@jupyter-widgets/controls",
            "_model_module_version": "1.5.0",
            "_model_name": "HTMLModel",
            "_view_count": null,
            "_view_module": "@jupyter-widgets/controls",
            "_view_module_version": "1.5.0",
            "_view_name": "HTMLView",
            "description": "",
            "description_tooltip": null,
            "layout": "IPY_MODEL_9bffcf40b91640c7a6326d4363412e3e",
            "placeholder": "​",
            "style": "IPY_MODEL_53b58ff3a0974aa9bb8496eb5349be00",
            "value": "JSMA: 100%"
          }
        },
        "e165ac6cd8224f999c33e831b23a28c5": {
          "model_module": "@jupyter-widgets/controls",
          "model_name": "FloatProgressModel",
          "model_module_version": "1.5.0",
          "state": {
            "_dom_classes": [],
            "_model_module": "@jupyter-widgets/controls",
            "_model_module_version": "1.5.0",
            "_model_name": "FloatProgressModel",
            "_view_count": null,
            "_view_module": "@jupyter-widgets/controls",
            "_view_module_version": "1.5.0",
            "_view_name": "ProgressView",
            "bar_style": "success",
            "description": "",
            "description_tooltip": null,
            "layout": "IPY_MODEL_ba24b5552e0e4c3dba08ad1cfe9830f1",
            "max": 1000,
            "min": 0,
            "orientation": "horizontal",
            "style": "IPY_MODEL_7dda5415c3404be6924e4e46c7cfb7ed",
            "value": 1000
          }
        },
        "ca49d06737014c1da318c9d59b5335a0": {
          "model_module": "@jupyter-widgets/controls",
          "model_name": "HTMLModel",
          "model_module_version": "1.5.0",
          "state": {
            "_dom_classes": [],
            "_model_module": "@jupyter-widgets/controls",
            "_model_module_version": "1.5.0",
            "_model_name": "HTMLModel",
            "_view_count": null,
            "_view_module": "@jupyter-widgets/controls",
            "_view_module_version": "1.5.0",
            "_view_name": "HTMLView",
            "description": "",
            "description_tooltip": null,
            "layout": "IPY_MODEL_5ede206d222f4460a4d1b16caf28d5b0",
            "placeholder": "​",
            "style": "IPY_MODEL_a5d869bc460d43519c03a4d448fcd3e8",
            "value": " 1000/1000 [00:49&lt;00:00, 19.18it/s]"
          }
        },
        "55844fa5c096420181f36c4cdf5a08bc": {
          "model_module": "@jupyter-widgets/base",
          "model_name": "LayoutModel",
          "model_module_version": "1.2.0",
          "state": {
            "_model_module": "@jupyter-widgets/base",
            "_model_module_version": "1.2.0",
            "_model_name": "LayoutModel",
            "_view_count": null,
            "_view_module": "@jupyter-widgets/base",
            "_view_module_version": "1.2.0",
            "_view_name": "LayoutView",
            "align_content": null,
            "align_items": null,
            "align_self": null,
            "border": null,
            "bottom": null,
            "display": null,
            "flex": null,
            "flex_flow": null,
            "grid_area": null,
            "grid_auto_columns": null,
            "grid_auto_flow": null,
            "grid_auto_rows": null,
            "grid_column": null,
            "grid_gap": null,
            "grid_row": null,
            "grid_template_areas": null,
            "grid_template_columns": null,
            "grid_template_rows": null,
            "height": null,
            "justify_content": null,
            "justify_items": null,
            "left": null,
            "margin": null,
            "max_height": null,
            "max_width": null,
            "min_height": null,
            "min_width": null,
            "object_fit": null,
            "object_position": null,
            "order": null,
            "overflow": null,
            "overflow_x": null,
            "overflow_y": null,
            "padding": null,
            "right": null,
            "top": null,
            "visibility": null,
            "width": null
          }
        },
        "9bffcf40b91640c7a6326d4363412e3e": {
          "model_module": "@jupyter-widgets/base",
          "model_name": "LayoutModel",
          "model_module_version": "1.2.0",
          "state": {
            "_model_module": "@jupyter-widgets/base",
            "_model_module_version": "1.2.0",
            "_model_name": "LayoutModel",
            "_view_count": null,
            "_view_module": "@jupyter-widgets/base",
            "_view_module_version": "1.2.0",
            "_view_name": "LayoutView",
            "align_content": null,
            "align_items": null,
            "align_self": null,
            "border": null,
            "bottom": null,
            "display": null,
            "flex": null,
            "flex_flow": null,
            "grid_area": null,
            "grid_auto_columns": null,
            "grid_auto_flow": null,
            "grid_auto_rows": null,
            "grid_column": null,
            "grid_gap": null,
            "grid_row": null,
            "grid_template_areas": null,
            "grid_template_columns": null,
            "grid_template_rows": null,
            "height": null,
            "justify_content": null,
            "justify_items": null,
            "left": null,
            "margin": null,
            "max_height": null,
            "max_width": null,
            "min_height": null,
            "min_width": null,
            "object_fit": null,
            "object_position": null,
            "order": null,
            "overflow": null,
            "overflow_x": null,
            "overflow_y": null,
            "padding": null,
            "right": null,
            "top": null,
            "visibility": null,
            "width": null
          }
        },
        "53b58ff3a0974aa9bb8496eb5349be00": {
          "model_module": "@jupyter-widgets/controls",
          "model_name": "DescriptionStyleModel",
          "model_module_version": "1.5.0",
          "state": {
            "_model_module": "@jupyter-widgets/controls",
            "_model_module_version": "1.5.0",
            "_model_name": "DescriptionStyleModel",
            "_view_count": null,
            "_view_module": "@jupyter-widgets/base",
            "_view_module_version": "1.2.0",
            "_view_name": "StyleView",
            "description_width": ""
          }
        },
        "ba24b5552e0e4c3dba08ad1cfe9830f1": {
          "model_module": "@jupyter-widgets/base",
          "model_name": "LayoutModel",
          "model_module_version": "1.2.0",
          "state": {
            "_model_module": "@jupyter-widgets/base",
            "_model_module_version": "1.2.0",
            "_model_name": "LayoutModel",
            "_view_count": null,
            "_view_module": "@jupyter-widgets/base",
            "_view_module_version": "1.2.0",
            "_view_name": "LayoutView",
            "align_content": null,
            "align_items": null,
            "align_self": null,
            "border": null,
            "bottom": null,
            "display": null,
            "flex": null,
            "flex_flow": null,
            "grid_area": null,
            "grid_auto_columns": null,
            "grid_auto_flow": null,
            "grid_auto_rows": null,
            "grid_column": null,
            "grid_gap": null,
            "grid_row": null,
            "grid_template_areas": null,
            "grid_template_columns": null,
            "grid_template_rows": null,
            "height": null,
            "justify_content": null,
            "justify_items": null,
            "left": null,
            "margin": null,
            "max_height": null,
            "max_width": null,
            "min_height": null,
            "min_width": null,
            "object_fit": null,
            "object_position": null,
            "order": null,
            "overflow": null,
            "overflow_x": null,
            "overflow_y": null,
            "padding": null,
            "right": null,
            "top": null,
            "visibility": null,
            "width": null
          }
        },
        "7dda5415c3404be6924e4e46c7cfb7ed": {
          "model_module": "@jupyter-widgets/controls",
          "model_name": "ProgressStyleModel",
          "model_module_version": "1.5.0",
          "state": {
            "_model_module": "@jupyter-widgets/controls",
            "_model_module_version": "1.5.0",
            "_model_name": "ProgressStyleModel",
            "_view_count": null,
            "_view_module": "@jupyter-widgets/base",
            "_view_module_version": "1.2.0",
            "_view_name": "StyleView",
            "bar_color": null,
            "description_width": ""
          }
        },
        "5ede206d222f4460a4d1b16caf28d5b0": {
          "model_module": "@jupyter-widgets/base",
          "model_name": "LayoutModel",
          "model_module_version": "1.2.0",
          "state": {
            "_model_module": "@jupyter-widgets/base",
            "_model_module_version": "1.2.0",
            "_model_name": "LayoutModel",
            "_view_count": null,
            "_view_module": "@jupyter-widgets/base",
            "_view_module_version": "1.2.0",
            "_view_name": "LayoutView",
            "align_content": null,
            "align_items": null,
            "align_self": null,
            "border": null,
            "bottom": null,
            "display": null,
            "flex": null,
            "flex_flow": null,
            "grid_area": null,
            "grid_auto_columns": null,
            "grid_auto_flow": null,
            "grid_auto_rows": null,
            "grid_column": null,
            "grid_gap": null,
            "grid_row": null,
            "grid_template_areas": null,
            "grid_template_columns": null,
            "grid_template_rows": null,
            "height": null,
            "justify_content": null,
            "justify_items": null,
            "left": null,
            "margin": null,
            "max_height": null,
            "max_width": null,
            "min_height": null,
            "min_width": null,
            "object_fit": null,
            "object_position": null,
            "order": null,
            "overflow": null,
            "overflow_x": null,
            "overflow_y": null,
            "padding": null,
            "right": null,
            "top": null,
            "visibility": null,
            "width": null
          }
        },
        "a5d869bc460d43519c03a4d448fcd3e8": {
          "model_module": "@jupyter-widgets/controls",
          "model_name": "DescriptionStyleModel",
          "model_module_version": "1.5.0",
          "state": {
            "_model_module": "@jupyter-widgets/controls",
            "_model_module_version": "1.5.0",
            "_model_name": "DescriptionStyleModel",
            "_view_count": null,
            "_view_module": "@jupyter-widgets/base",
            "_view_module_version": "1.2.0",
            "_view_name": "StyleView",
            "description_width": ""
          }
        },
        "1c1b1c6ff6c94b888564119c6ddb0d47": {
          "model_module": "@jupyter-widgets/controls",
          "model_name": "HBoxModel",
          "model_module_version": "1.5.0",
          "state": {
            "_dom_classes": [],
            "_model_module": "@jupyter-widgets/controls",
            "_model_module_version": "1.5.0",
            "_model_name": "HBoxModel",
            "_view_count": null,
            "_view_module": "@jupyter-widgets/controls",
            "_view_module_version": "1.5.0",
            "_view_name": "HBoxView",
            "box_style": "",
            "children": [
              "IPY_MODEL_5b5c85b7328a474da087c43a583a3578",
              "IPY_MODEL_f63da0b87c094831b1fb8d62b2800ec3",
              "IPY_MODEL_181b11668ad84d6495e31d2a8a4fd877"
            ],
            "layout": "IPY_MODEL_f09408eec22c40889c82abe50dd1f15f"
          }
        },
        "5b5c85b7328a474da087c43a583a3578": {
          "model_module": "@jupyter-widgets/controls",
          "model_name": "HTMLModel",
          "model_module_version": "1.5.0",
          "state": {
            "_dom_classes": [],
            "_model_module": "@jupyter-widgets/controls",
            "_model_module_version": "1.5.0",
            "_model_name": "HTMLModel",
            "_view_count": null,
            "_view_module": "@jupyter-widgets/controls",
            "_view_module_version": "1.5.0",
            "_view_name": "HTMLView",
            "description": "",
            "description_tooltip": null,
            "layout": "IPY_MODEL_3f3b8b317c184e78bf4f7aad362fbda3",
            "placeholder": "​",
            "style": "IPY_MODEL_33052d80810344c9856003ad6088b5b9",
            "value": "JSMA: 100%"
          }
        },
        "f63da0b87c094831b1fb8d62b2800ec3": {
          "model_module": "@jupyter-widgets/controls",
          "model_name": "FloatProgressModel",
          "model_module_version": "1.5.0",
          "state": {
            "_dom_classes": [],
            "_model_module": "@jupyter-widgets/controls",
            "_model_module_version": "1.5.0",
            "_model_name": "FloatProgressModel",
            "_view_count": null,
            "_view_module": "@jupyter-widgets/controls",
            "_view_module_version": "1.5.0",
            "_view_name": "ProgressView",
            "bar_style": "success",
            "description": "",
            "description_tooltip": null,
            "layout": "IPY_MODEL_0624054af46d490f920117295c781e6d",
            "max": 1000,
            "min": 0,
            "orientation": "horizontal",
            "style": "IPY_MODEL_9379e29b4d0e4ba890f3e4902e0beb24",
            "value": 1000
          }
        },
        "181b11668ad84d6495e31d2a8a4fd877": {
          "model_module": "@jupyter-widgets/controls",
          "model_name": "HTMLModel",
          "model_module_version": "1.5.0",
          "state": {
            "_dom_classes": [],
            "_model_module": "@jupyter-widgets/controls",
            "_model_module_version": "1.5.0",
            "_model_name": "HTMLModel",
            "_view_count": null,
            "_view_module": "@jupyter-widgets/controls",
            "_view_module_version": "1.5.0",
            "_view_name": "HTMLView",
            "description": "",
            "description_tooltip": null,
            "layout": "IPY_MODEL_5c07bdb44e684a27879741c39ca4c8cb",
            "placeholder": "​",
            "style": "IPY_MODEL_b4c6abb432464ce8bf3f52ce3ad78d8e",
            "value": " 1000/1000 [00:18&lt;00:00, 54.74it/s]"
          }
        },
        "f09408eec22c40889c82abe50dd1f15f": {
          "model_module": "@jupyter-widgets/base",
          "model_name": "LayoutModel",
          "model_module_version": "1.2.0",
          "state": {
            "_model_module": "@jupyter-widgets/base",
            "_model_module_version": "1.2.0",
            "_model_name": "LayoutModel",
            "_view_count": null,
            "_view_module": "@jupyter-widgets/base",
            "_view_module_version": "1.2.0",
            "_view_name": "LayoutView",
            "align_content": null,
            "align_items": null,
            "align_self": null,
            "border": null,
            "bottom": null,
            "display": null,
            "flex": null,
            "flex_flow": null,
            "grid_area": null,
            "grid_auto_columns": null,
            "grid_auto_flow": null,
            "grid_auto_rows": null,
            "grid_column": null,
            "grid_gap": null,
            "grid_row": null,
            "grid_template_areas": null,
            "grid_template_columns": null,
            "grid_template_rows": null,
            "height": null,
            "justify_content": null,
            "justify_items": null,
            "left": null,
            "margin": null,
            "max_height": null,
            "max_width": null,
            "min_height": null,
            "min_width": null,
            "object_fit": null,
            "object_position": null,
            "order": null,
            "overflow": null,
            "overflow_x": null,
            "overflow_y": null,
            "padding": null,
            "right": null,
            "top": null,
            "visibility": null,
            "width": null
          }
        },
        "3f3b8b317c184e78bf4f7aad362fbda3": {
          "model_module": "@jupyter-widgets/base",
          "model_name": "LayoutModel",
          "model_module_version": "1.2.0",
          "state": {
            "_model_module": "@jupyter-widgets/base",
            "_model_module_version": "1.2.0",
            "_model_name": "LayoutModel",
            "_view_count": null,
            "_view_module": "@jupyter-widgets/base",
            "_view_module_version": "1.2.0",
            "_view_name": "LayoutView",
            "align_content": null,
            "align_items": null,
            "align_self": null,
            "border": null,
            "bottom": null,
            "display": null,
            "flex": null,
            "flex_flow": null,
            "grid_area": null,
            "grid_auto_columns": null,
            "grid_auto_flow": null,
            "grid_auto_rows": null,
            "grid_column": null,
            "grid_gap": null,
            "grid_row": null,
            "grid_template_areas": null,
            "grid_template_columns": null,
            "grid_template_rows": null,
            "height": null,
            "justify_content": null,
            "justify_items": null,
            "left": null,
            "margin": null,
            "max_height": null,
            "max_width": null,
            "min_height": null,
            "min_width": null,
            "object_fit": null,
            "object_position": null,
            "order": null,
            "overflow": null,
            "overflow_x": null,
            "overflow_y": null,
            "padding": null,
            "right": null,
            "top": null,
            "visibility": null,
            "width": null
          }
        },
        "33052d80810344c9856003ad6088b5b9": {
          "model_module": "@jupyter-widgets/controls",
          "model_name": "DescriptionStyleModel",
          "model_module_version": "1.5.0",
          "state": {
            "_model_module": "@jupyter-widgets/controls",
            "_model_module_version": "1.5.0",
            "_model_name": "DescriptionStyleModel",
            "_view_count": null,
            "_view_module": "@jupyter-widgets/base",
            "_view_module_version": "1.2.0",
            "_view_name": "StyleView",
            "description_width": ""
          }
        },
        "0624054af46d490f920117295c781e6d": {
          "model_module": "@jupyter-widgets/base",
          "model_name": "LayoutModel",
          "model_module_version": "1.2.0",
          "state": {
            "_model_module": "@jupyter-widgets/base",
            "_model_module_version": "1.2.0",
            "_model_name": "LayoutModel",
            "_view_count": null,
            "_view_module": "@jupyter-widgets/base",
            "_view_module_version": "1.2.0",
            "_view_name": "LayoutView",
            "align_content": null,
            "align_items": null,
            "align_self": null,
            "border": null,
            "bottom": null,
            "display": null,
            "flex": null,
            "flex_flow": null,
            "grid_area": null,
            "grid_auto_columns": null,
            "grid_auto_flow": null,
            "grid_auto_rows": null,
            "grid_column": null,
            "grid_gap": null,
            "grid_row": null,
            "grid_template_areas": null,
            "grid_template_columns": null,
            "grid_template_rows": null,
            "height": null,
            "justify_content": null,
            "justify_items": null,
            "left": null,
            "margin": null,
            "max_height": null,
            "max_width": null,
            "min_height": null,
            "min_width": null,
            "object_fit": null,
            "object_position": null,
            "order": null,
            "overflow": null,
            "overflow_x": null,
            "overflow_y": null,
            "padding": null,
            "right": null,
            "top": null,
            "visibility": null,
            "width": null
          }
        },
        "9379e29b4d0e4ba890f3e4902e0beb24": {
          "model_module": "@jupyter-widgets/controls",
          "model_name": "ProgressStyleModel",
          "model_module_version": "1.5.0",
          "state": {
            "_model_module": "@jupyter-widgets/controls",
            "_model_module_version": "1.5.0",
            "_model_name": "ProgressStyleModel",
            "_view_count": null,
            "_view_module": "@jupyter-widgets/base",
            "_view_module_version": "1.2.0",
            "_view_name": "StyleView",
            "bar_color": null,
            "description_width": ""
          }
        },
        "5c07bdb44e684a27879741c39ca4c8cb": {
          "model_module": "@jupyter-widgets/base",
          "model_name": "LayoutModel",
          "model_module_version": "1.2.0",
          "state": {
            "_model_module": "@jupyter-widgets/base",
            "_model_module_version": "1.2.0",
            "_model_name": "LayoutModel",
            "_view_count": null,
            "_view_module": "@jupyter-widgets/base",
            "_view_module_version": "1.2.0",
            "_view_name": "LayoutView",
            "align_content": null,
            "align_items": null,
            "align_self": null,
            "border": null,
            "bottom": null,
            "display": null,
            "flex": null,
            "flex_flow": null,
            "grid_area": null,
            "grid_auto_columns": null,
            "grid_auto_flow": null,
            "grid_auto_rows": null,
            "grid_column": null,
            "grid_gap": null,
            "grid_row": null,
            "grid_template_areas": null,
            "grid_template_columns": null,
            "grid_template_rows": null,
            "height": null,
            "justify_content": null,
            "justify_items": null,
            "left": null,
            "margin": null,
            "max_height": null,
            "max_width": null,
            "min_height": null,
            "min_width": null,
            "object_fit": null,
            "object_position": null,
            "order": null,
            "overflow": null,
            "overflow_x": null,
            "overflow_y": null,
            "padding": null,
            "right": null,
            "top": null,
            "visibility": null,
            "width": null
          }
        },
        "b4c6abb432464ce8bf3f52ce3ad78d8e": {
          "model_module": "@jupyter-widgets/controls",
          "model_name": "DescriptionStyleModel",
          "model_module_version": "1.5.0",
          "state": {
            "_model_module": "@jupyter-widgets/controls",
            "_model_module_version": "1.5.0",
            "_model_name": "DescriptionStyleModel",
            "_view_count": null,
            "_view_module": "@jupyter-widgets/base",
            "_view_module_version": "1.2.0",
            "_view_name": "StyleView",
            "description_width": ""
          }
        },
        "27a67071503047da9fd85f89d9521f21": {
          "model_module": "@jupyter-widgets/controls",
          "model_name": "HBoxModel",
          "model_module_version": "1.5.0",
          "state": {
            "_dom_classes": [],
            "_model_module": "@jupyter-widgets/controls",
            "_model_module_version": "1.5.0",
            "_model_name": "HBoxModel",
            "_view_count": null,
            "_view_module": "@jupyter-widgets/controls",
            "_view_module_version": "1.5.0",
            "_view_name": "HBoxView",
            "box_style": "",
            "children": [
              "IPY_MODEL_9c9bd8f92bc148aaaceb6d93301b9644",
              "IPY_MODEL_288a4e60d7a24193812f55bcfe90bfe2",
              "IPY_MODEL_3e067d56f2ab414ab6e0afff69b959b6"
            ],
            "layout": "IPY_MODEL_c31102b76a344920ad7f8a54a3b61c7f"
          }
        },
        "9c9bd8f92bc148aaaceb6d93301b9644": {
          "model_module": "@jupyter-widgets/controls",
          "model_name": "HTMLModel",
          "model_module_version": "1.5.0",
          "state": {
            "_dom_classes": [],
            "_model_module": "@jupyter-widgets/controls",
            "_model_module_version": "1.5.0",
            "_model_name": "HTMLModel",
            "_view_count": null,
            "_view_module": "@jupyter-widgets/controls",
            "_view_module_version": "1.5.0",
            "_view_name": "HTMLView",
            "description": "",
            "description_tooltip": null,
            "layout": "IPY_MODEL_c8aa81b570fc4754a34eeb18ae5c9d89",
            "placeholder": "​",
            "style": "IPY_MODEL_edbfcbeb3aa64f8e96395b822d73ae77",
            "value": "JSMA: 100%"
          }
        },
        "288a4e60d7a24193812f55bcfe90bfe2": {
          "model_module": "@jupyter-widgets/controls",
          "model_name": "FloatProgressModel",
          "model_module_version": "1.5.0",
          "state": {
            "_dom_classes": [],
            "_model_module": "@jupyter-widgets/controls",
            "_model_module_version": "1.5.0",
            "_model_name": "FloatProgressModel",
            "_view_count": null,
            "_view_module": "@jupyter-widgets/controls",
            "_view_module_version": "1.5.0",
            "_view_name": "ProgressView",
            "bar_style": "success",
            "description": "",
            "description_tooltip": null,
            "layout": "IPY_MODEL_5b4d943ced404b0990496bf5c805d8f6",
            "max": 1000,
            "min": 0,
            "orientation": "horizontal",
            "style": "IPY_MODEL_dccd8e7e373f4a03a781666efa5dc79e",
            "value": 1000
          }
        },
        "3e067d56f2ab414ab6e0afff69b959b6": {
          "model_module": "@jupyter-widgets/controls",
          "model_name": "HTMLModel",
          "model_module_version": "1.5.0",
          "state": {
            "_dom_classes": [],
            "_model_module": "@jupyter-widgets/controls",
            "_model_module_version": "1.5.0",
            "_model_name": "HTMLModel",
            "_view_count": null,
            "_view_module": "@jupyter-widgets/controls",
            "_view_module_version": "1.5.0",
            "_view_name": "HTMLView",
            "description": "",
            "description_tooltip": null,
            "layout": "IPY_MODEL_b4b1c9a46d5a44d7914ede18cb3706fe",
            "placeholder": "​",
            "style": "IPY_MODEL_a697bd8574674f23a86d0b494102e88e",
            "value": " 1000/1000 [00:31&lt;00:00, 34.93it/s]"
          }
        },
        "c31102b76a344920ad7f8a54a3b61c7f": {
          "model_module": "@jupyter-widgets/base",
          "model_name": "LayoutModel",
          "model_module_version": "1.2.0",
          "state": {
            "_model_module": "@jupyter-widgets/base",
            "_model_module_version": "1.2.0",
            "_model_name": "LayoutModel",
            "_view_count": null,
            "_view_module": "@jupyter-widgets/base",
            "_view_module_version": "1.2.0",
            "_view_name": "LayoutView",
            "align_content": null,
            "align_items": null,
            "align_self": null,
            "border": null,
            "bottom": null,
            "display": null,
            "flex": null,
            "flex_flow": null,
            "grid_area": null,
            "grid_auto_columns": null,
            "grid_auto_flow": null,
            "grid_auto_rows": null,
            "grid_column": null,
            "grid_gap": null,
            "grid_row": null,
            "grid_template_areas": null,
            "grid_template_columns": null,
            "grid_template_rows": null,
            "height": null,
            "justify_content": null,
            "justify_items": null,
            "left": null,
            "margin": null,
            "max_height": null,
            "max_width": null,
            "min_height": null,
            "min_width": null,
            "object_fit": null,
            "object_position": null,
            "order": null,
            "overflow": null,
            "overflow_x": null,
            "overflow_y": null,
            "padding": null,
            "right": null,
            "top": null,
            "visibility": null,
            "width": null
          }
        },
        "c8aa81b570fc4754a34eeb18ae5c9d89": {
          "model_module": "@jupyter-widgets/base",
          "model_name": "LayoutModel",
          "model_module_version": "1.2.0",
          "state": {
            "_model_module": "@jupyter-widgets/base",
            "_model_module_version": "1.2.0",
            "_model_name": "LayoutModel",
            "_view_count": null,
            "_view_module": "@jupyter-widgets/base",
            "_view_module_version": "1.2.0",
            "_view_name": "LayoutView",
            "align_content": null,
            "align_items": null,
            "align_self": null,
            "border": null,
            "bottom": null,
            "display": null,
            "flex": null,
            "flex_flow": null,
            "grid_area": null,
            "grid_auto_columns": null,
            "grid_auto_flow": null,
            "grid_auto_rows": null,
            "grid_column": null,
            "grid_gap": null,
            "grid_row": null,
            "grid_template_areas": null,
            "grid_template_columns": null,
            "grid_template_rows": null,
            "height": null,
            "justify_content": null,
            "justify_items": null,
            "left": null,
            "margin": null,
            "max_height": null,
            "max_width": null,
            "min_height": null,
            "min_width": null,
            "object_fit": null,
            "object_position": null,
            "order": null,
            "overflow": null,
            "overflow_x": null,
            "overflow_y": null,
            "padding": null,
            "right": null,
            "top": null,
            "visibility": null,
            "width": null
          }
        },
        "edbfcbeb3aa64f8e96395b822d73ae77": {
          "model_module": "@jupyter-widgets/controls",
          "model_name": "DescriptionStyleModel",
          "model_module_version": "1.5.0",
          "state": {
            "_model_module": "@jupyter-widgets/controls",
            "_model_module_version": "1.5.0",
            "_model_name": "DescriptionStyleModel",
            "_view_count": null,
            "_view_module": "@jupyter-widgets/base",
            "_view_module_version": "1.2.0",
            "_view_name": "StyleView",
            "description_width": ""
          }
        },
        "5b4d943ced404b0990496bf5c805d8f6": {
          "model_module": "@jupyter-widgets/base",
          "model_name": "LayoutModel",
          "model_module_version": "1.2.0",
          "state": {
            "_model_module": "@jupyter-widgets/base",
            "_model_module_version": "1.2.0",
            "_model_name": "LayoutModel",
            "_view_count": null,
            "_view_module": "@jupyter-widgets/base",
            "_view_module_version": "1.2.0",
            "_view_name": "LayoutView",
            "align_content": null,
            "align_items": null,
            "align_self": null,
            "border": null,
            "bottom": null,
            "display": null,
            "flex": null,
            "flex_flow": null,
            "grid_area": null,
            "grid_auto_columns": null,
            "grid_auto_flow": null,
            "grid_auto_rows": null,
            "grid_column": null,
            "grid_gap": null,
            "grid_row": null,
            "grid_template_areas": null,
            "grid_template_columns": null,
            "grid_template_rows": null,
            "height": null,
            "justify_content": null,
            "justify_items": null,
            "left": null,
            "margin": null,
            "max_height": null,
            "max_width": null,
            "min_height": null,
            "min_width": null,
            "object_fit": null,
            "object_position": null,
            "order": null,
            "overflow": null,
            "overflow_x": null,
            "overflow_y": null,
            "padding": null,
            "right": null,
            "top": null,
            "visibility": null,
            "width": null
          }
        },
        "dccd8e7e373f4a03a781666efa5dc79e": {
          "model_module": "@jupyter-widgets/controls",
          "model_name": "ProgressStyleModel",
          "model_module_version": "1.5.0",
          "state": {
            "_model_module": "@jupyter-widgets/controls",
            "_model_module_version": "1.5.0",
            "_model_name": "ProgressStyleModel",
            "_view_count": null,
            "_view_module": "@jupyter-widgets/base",
            "_view_module_version": "1.2.0",
            "_view_name": "StyleView",
            "bar_color": null,
            "description_width": ""
          }
        },
        "b4b1c9a46d5a44d7914ede18cb3706fe": {
          "model_module": "@jupyter-widgets/base",
          "model_name": "LayoutModel",
          "model_module_version": "1.2.0",
          "state": {
            "_model_module": "@jupyter-widgets/base",
            "_model_module_version": "1.2.0",
            "_model_name": "LayoutModel",
            "_view_count": null,
            "_view_module": "@jupyter-widgets/base",
            "_view_module_version": "1.2.0",
            "_view_name": "LayoutView",
            "align_content": null,
            "align_items": null,
            "align_self": null,
            "border": null,
            "bottom": null,
            "display": null,
            "flex": null,
            "flex_flow": null,
            "grid_area": null,
            "grid_auto_columns": null,
            "grid_auto_flow": null,
            "grid_auto_rows": null,
            "grid_column": null,
            "grid_gap": null,
            "grid_row": null,
            "grid_template_areas": null,
            "grid_template_columns": null,
            "grid_template_rows": null,
            "height": null,
            "justify_content": null,
            "justify_items": null,
            "left": null,
            "margin": null,
            "max_height": null,
            "max_width": null,
            "min_height": null,
            "min_width": null,
            "object_fit": null,
            "object_position": null,
            "order": null,
            "overflow": null,
            "overflow_x": null,
            "overflow_y": null,
            "padding": null,
            "right": null,
            "top": null,
            "visibility": null,
            "width": null
          }
        },
        "a697bd8574674f23a86d0b494102e88e": {
          "model_module": "@jupyter-widgets/controls",
          "model_name": "DescriptionStyleModel",
          "model_module_version": "1.5.0",
          "state": {
            "_model_module": "@jupyter-widgets/controls",
            "_model_module_version": "1.5.0",
            "_model_name": "DescriptionStyleModel",
            "_view_count": null,
            "_view_module": "@jupyter-widgets/base",
            "_view_module_version": "1.2.0",
            "_view_name": "StyleView",
            "description_width": ""
          }
        }
      }
    }
  },
  "cells": [
    {
      "cell_type": "code",
      "metadata": {
        "colab": {
          "base_uri": "https://localhost:8080/"
        },
        "id": "LR0vw0oTbnHr",
        "outputId": "64d4c0c0-c4da-4589-93dd-c5dae810a919"
      },
      "source": [
        "from google.colab import drive\n",
        "drive.mount('/content/drive')"
      ],
      "execution_count": 1,
      "outputs": [
        {
          "output_type": "stream",
          "name": "stdout",
          "text": [
            "Mounted at /content/drive\n"
          ]
        }
      ]
    },
    {
      "cell_type": "code",
      "source": [
        "pip install adversarial-robustness-toolbox"
      ],
      "metadata": {
        "id": "8cXvz6aGfo3f",
        "colab": {
          "base_uri": "https://localhost:8080/"
        },
        "outputId": "2384ed9f-8e7e-4659-a482-8affdfbf7588"
      },
      "execution_count": 2,
      "outputs": [
        {
          "output_type": "stream",
          "name": "stdout",
          "text": [
            "Collecting adversarial-robustness-toolbox\n",
            "  Downloading adversarial_robustness_toolbox-1.19.1-py3-none-any.whl.metadata (11 kB)\n",
            "Requirement already satisfied: numpy>=1.18.0 in /usr/local/lib/python3.11/dist-packages (from adversarial-robustness-toolbox) (2.0.2)\n",
            "Requirement already satisfied: scipy>=1.4.1 in /usr/local/lib/python3.11/dist-packages (from adversarial-robustness-toolbox) (1.14.1)\n",
            "Requirement already satisfied: scikit-learn>=0.22.2 in /usr/local/lib/python3.11/dist-packages (from adversarial-robustness-toolbox) (1.6.1)\n",
            "Requirement already satisfied: six in /usr/local/lib/python3.11/dist-packages (from adversarial-robustness-toolbox) (1.17.0)\n",
            "Requirement already satisfied: setuptools in /usr/local/lib/python3.11/dist-packages (from adversarial-robustness-toolbox) (75.2.0)\n",
            "Requirement already satisfied: tqdm in /usr/local/lib/python3.11/dist-packages (from adversarial-robustness-toolbox) (4.67.1)\n",
            "Requirement already satisfied: joblib>=1.2.0 in /usr/local/lib/python3.11/dist-packages (from scikit-learn>=0.22.2->adversarial-robustness-toolbox) (1.4.2)\n",
            "Requirement already satisfied: threadpoolctl>=3.1.0 in /usr/local/lib/python3.11/dist-packages (from scikit-learn>=0.22.2->adversarial-robustness-toolbox) (3.6.0)\n",
            "Downloading adversarial_robustness_toolbox-1.19.1-py3-none-any.whl (1.7 MB)\n",
            "\u001b[?25l   \u001b[90m━━━━━━━━━━━━━━━━━━━━━━━━━━━━━━━━━━━━━━━━\u001b[0m \u001b[32m0.0/1.7 MB\u001b[0m \u001b[31m?\u001b[0m eta \u001b[36m-:--:--\u001b[0m\r\u001b[2K   \u001b[91m━━━━━━━━━━━━━━━━━━━━━━━━━━━━━━━━━━━━━━━\u001b[0m\u001b[91m╸\u001b[0m \u001b[32m1.7/1.7 MB\u001b[0m \u001b[31m139.7 MB/s\u001b[0m eta \u001b[36m0:00:01\u001b[0m\r\u001b[2K   \u001b[90m━━━━━━━━━━━━━━━━━━━━━━━━━━━━━━━━━━━━━━━━\u001b[0m \u001b[32m1.7/1.7 MB\u001b[0m \u001b[31m61.4 MB/s\u001b[0m eta \u001b[36m0:00:00\u001b[0m\n",
            "\u001b[?25hInstalling collected packages: adversarial-robustness-toolbox\n",
            "Successfully installed adversarial-robustness-toolbox-1.19.1\n"
          ]
        }
      ]
    },
    {
      "cell_type": "code",
      "metadata": {
        "id": "1NzoySySb2Mt"
      },
      "source": [
        "import numpy as np\n",
        "import pandas as pd\n",
        "import matplotlib.pyplot as plt\n",
        "from sklearn.preprocessing import MinMaxScaler\n",
        "import seaborn as sns"
      ],
      "execution_count": 3,
      "outputs": []
    },
    {
      "cell_type": "markdown",
      "source": [
        "# Loading the data"
      ],
      "metadata": {
        "id": "Zig0sjaNbEXA"
      }
    },
    {
      "cell_type": "code",
      "metadata": {
        "id": "wd_B8VwQlsYc"
      },
      "source": [
        "# Data directory for NSL-KDD dataset\n",
        "data_path = \"/content/sample_data/\""
      ],
      "execution_count": 63,
      "outputs": []
    },
    {
      "cell_type": "code",
      "metadata": {
        "colab": {
          "base_uri": "https://localhost:8080/",
          "height": 236
        },
        "id": "CwdoB97ImVvy",
        "outputId": "63033d61-d812-4558-be10-f71ab15433a3"
      },
      "source": [
        "# Load the data into pandas dataframes\n",
        "train_df = pd.read_csv(data_path + \"UNSW_NB15_train.csv\")\n",
        "test_df = pd.read_csv(data_path + \"UNSW_NB15_test.csv\")\n",
        "\n",
        "# Print the first 5 rows of the train data\n",
        "train_df.head()"
      ],
      "execution_count": 64,
      "outputs": [
        {
          "output_type": "execute_result",
          "data": {
            "text/plain": [
              "        dur proto service state  spkts  dpkts  sbytes  dbytes       rate  \\\n",
              "0  0.121478   tcp       -   FIN      6      4     258     172  74.087490   \n",
              "1  0.649902   tcp       -   FIN     14     38     734   42014  78.473372   \n",
              "2  1.623129   tcp       -   FIN      8     16     364   13186  14.170161   \n",
              "3  1.681642   tcp     ftp   FIN     12     12     628     770  13.677108   \n",
              "4  0.449454   tcp       -   FIN     10      6     534     268  33.373826   \n",
              "\n",
              "   sttl  ...  ct_dst_sport_ltm  ct_dst_src_ltm  is_ftp_login  ct_ftp_cmd  \\\n",
              "0   252  ...                 1               1             0           0   \n",
              "1    62  ...                 1               2             0           0   \n",
              "2    62  ...                 1               3             0           0   \n",
              "3    62  ...                 1               3             1           1   \n",
              "4   254  ...                 1              40             0           0   \n",
              "\n",
              "   ct_flw_http_mthd  ct_src_ltm  ct_srv_dst  is_sm_ips_ports  attack  label  \n",
              "0                 0           1           1                0  Normal      0  \n",
              "1                 0           1           6                0  Normal      0  \n",
              "2                 0           2           6                0  Normal      0  \n",
              "3                 0           2           1                0  Normal      0  \n",
              "4                 0           2          39                0  Normal      0  \n",
              "\n",
              "[5 rows x 44 columns]"
            ],
            "text/html": [
              "\n",
              "  <div id=\"df-538fc01c-7bfb-488e-86f0-a42e9c1b2f53\" class=\"colab-df-container\">\n",
              "    <div>\n",
              "<style scoped>\n",
              "    .dataframe tbody tr th:only-of-type {\n",
              "        vertical-align: middle;\n",
              "    }\n",
              "\n",
              "    .dataframe tbody tr th {\n",
              "        vertical-align: top;\n",
              "    }\n",
              "\n",
              "    .dataframe thead th {\n",
              "        text-align: right;\n",
              "    }\n",
              "</style>\n",
              "<table border=\"1\" class=\"dataframe\">\n",
              "  <thead>\n",
              "    <tr style=\"text-align: right;\">\n",
              "      <th></th>\n",
              "      <th>dur</th>\n",
              "      <th>proto</th>\n",
              "      <th>service</th>\n",
              "      <th>state</th>\n",
              "      <th>spkts</th>\n",
              "      <th>dpkts</th>\n",
              "      <th>sbytes</th>\n",
              "      <th>dbytes</th>\n",
              "      <th>rate</th>\n",
              "      <th>sttl</th>\n",
              "      <th>...</th>\n",
              "      <th>ct_dst_sport_ltm</th>\n",
              "      <th>ct_dst_src_ltm</th>\n",
              "      <th>is_ftp_login</th>\n",
              "      <th>ct_ftp_cmd</th>\n",
              "      <th>ct_flw_http_mthd</th>\n",
              "      <th>ct_src_ltm</th>\n",
              "      <th>ct_srv_dst</th>\n",
              "      <th>is_sm_ips_ports</th>\n",
              "      <th>attack</th>\n",
              "      <th>label</th>\n",
              "    </tr>\n",
              "  </thead>\n",
              "  <tbody>\n",
              "    <tr>\n",
              "      <th>0</th>\n",
              "      <td>0.121478</td>\n",
              "      <td>tcp</td>\n",
              "      <td>-</td>\n",
              "      <td>FIN</td>\n",
              "      <td>6</td>\n",
              "      <td>4</td>\n",
              "      <td>258</td>\n",
              "      <td>172</td>\n",
              "      <td>74.087490</td>\n",
              "      <td>252</td>\n",
              "      <td>...</td>\n",
              "      <td>1</td>\n",
              "      <td>1</td>\n",
              "      <td>0</td>\n",
              "      <td>0</td>\n",
              "      <td>0</td>\n",
              "      <td>1</td>\n",
              "      <td>1</td>\n",
              "      <td>0</td>\n",
              "      <td>Normal</td>\n",
              "      <td>0</td>\n",
              "    </tr>\n",
              "    <tr>\n",
              "      <th>1</th>\n",
              "      <td>0.649902</td>\n",
              "      <td>tcp</td>\n",
              "      <td>-</td>\n",
              "      <td>FIN</td>\n",
              "      <td>14</td>\n",
              "      <td>38</td>\n",
              "      <td>734</td>\n",
              "      <td>42014</td>\n",
              "      <td>78.473372</td>\n",
              "      <td>62</td>\n",
              "      <td>...</td>\n",
              "      <td>1</td>\n",
              "      <td>2</td>\n",
              "      <td>0</td>\n",
              "      <td>0</td>\n",
              "      <td>0</td>\n",
              "      <td>1</td>\n",
              "      <td>6</td>\n",
              "      <td>0</td>\n",
              "      <td>Normal</td>\n",
              "      <td>0</td>\n",
              "    </tr>\n",
              "    <tr>\n",
              "      <th>2</th>\n",
              "      <td>1.623129</td>\n",
              "      <td>tcp</td>\n",
              "      <td>-</td>\n",
              "      <td>FIN</td>\n",
              "      <td>8</td>\n",
              "      <td>16</td>\n",
              "      <td>364</td>\n",
              "      <td>13186</td>\n",
              "      <td>14.170161</td>\n",
              "      <td>62</td>\n",
              "      <td>...</td>\n",
              "      <td>1</td>\n",
              "      <td>3</td>\n",
              "      <td>0</td>\n",
              "      <td>0</td>\n",
              "      <td>0</td>\n",
              "      <td>2</td>\n",
              "      <td>6</td>\n",
              "      <td>0</td>\n",
              "      <td>Normal</td>\n",
              "      <td>0</td>\n",
              "    </tr>\n",
              "    <tr>\n",
              "      <th>3</th>\n",
              "      <td>1.681642</td>\n",
              "      <td>tcp</td>\n",
              "      <td>ftp</td>\n",
              "      <td>FIN</td>\n",
              "      <td>12</td>\n",
              "      <td>12</td>\n",
              "      <td>628</td>\n",
              "      <td>770</td>\n",
              "      <td>13.677108</td>\n",
              "      <td>62</td>\n",
              "      <td>...</td>\n",
              "      <td>1</td>\n",
              "      <td>3</td>\n",
              "      <td>1</td>\n",
              "      <td>1</td>\n",
              "      <td>0</td>\n",
              "      <td>2</td>\n",
              "      <td>1</td>\n",
              "      <td>0</td>\n",
              "      <td>Normal</td>\n",
              "      <td>0</td>\n",
              "    </tr>\n",
              "    <tr>\n",
              "      <th>4</th>\n",
              "      <td>0.449454</td>\n",
              "      <td>tcp</td>\n",
              "      <td>-</td>\n",
              "      <td>FIN</td>\n",
              "      <td>10</td>\n",
              "      <td>6</td>\n",
              "      <td>534</td>\n",
              "      <td>268</td>\n",
              "      <td>33.373826</td>\n",
              "      <td>254</td>\n",
              "      <td>...</td>\n",
              "      <td>1</td>\n",
              "      <td>40</td>\n",
              "      <td>0</td>\n",
              "      <td>0</td>\n",
              "      <td>0</td>\n",
              "      <td>2</td>\n",
              "      <td>39</td>\n",
              "      <td>0</td>\n",
              "      <td>Normal</td>\n",
              "      <td>0</td>\n",
              "    </tr>\n",
              "  </tbody>\n",
              "</table>\n",
              "<p>5 rows × 44 columns</p>\n",
              "</div>\n",
              "    <div class=\"colab-df-buttons\">\n",
              "\n",
              "  <div class=\"colab-df-container\">\n",
              "    <button class=\"colab-df-convert\" onclick=\"convertToInteractive('df-538fc01c-7bfb-488e-86f0-a42e9c1b2f53')\"\n",
              "            title=\"Convert this dataframe to an interactive table.\"\n",
              "            style=\"display:none;\">\n",
              "\n",
              "  <svg xmlns=\"http://www.w3.org/2000/svg\" height=\"24px\" viewBox=\"0 -960 960 960\">\n",
              "    <path d=\"M120-120v-720h720v720H120Zm60-500h600v-160H180v160Zm220 220h160v-160H400v160Zm0 220h160v-160H400v160ZM180-400h160v-160H180v160Zm440 0h160v-160H620v160ZM180-180h160v-160H180v160Zm440 0h160v-160H620v160Z\"/>\n",
              "  </svg>\n",
              "    </button>\n",
              "\n",
              "  <style>\n",
              "    .colab-df-container {\n",
              "      display:flex;\n",
              "      gap: 12px;\n",
              "    }\n",
              "\n",
              "    .colab-df-convert {\n",
              "      background-color: #E8F0FE;\n",
              "      border: none;\n",
              "      border-radius: 50%;\n",
              "      cursor: pointer;\n",
              "      display: none;\n",
              "      fill: #1967D2;\n",
              "      height: 32px;\n",
              "      padding: 0 0 0 0;\n",
              "      width: 32px;\n",
              "    }\n",
              "\n",
              "    .colab-df-convert:hover {\n",
              "      background-color: #E2EBFA;\n",
              "      box-shadow: 0px 1px 2px rgba(60, 64, 67, 0.3), 0px 1px 3px 1px rgba(60, 64, 67, 0.15);\n",
              "      fill: #174EA6;\n",
              "    }\n",
              "\n",
              "    .colab-df-buttons div {\n",
              "      margin-bottom: 4px;\n",
              "    }\n",
              "\n",
              "    [theme=dark] .colab-df-convert {\n",
              "      background-color: #3B4455;\n",
              "      fill: #D2E3FC;\n",
              "    }\n",
              "\n",
              "    [theme=dark] .colab-df-convert:hover {\n",
              "      background-color: #434B5C;\n",
              "      box-shadow: 0px 1px 3px 1px rgba(0, 0, 0, 0.15);\n",
              "      filter: drop-shadow(0px 1px 2px rgba(0, 0, 0, 0.3));\n",
              "      fill: #FFFFFF;\n",
              "    }\n",
              "  </style>\n",
              "\n",
              "    <script>\n",
              "      const buttonEl =\n",
              "        document.querySelector('#df-538fc01c-7bfb-488e-86f0-a42e9c1b2f53 button.colab-df-convert');\n",
              "      buttonEl.style.display =\n",
              "        google.colab.kernel.accessAllowed ? 'block' : 'none';\n",
              "\n",
              "      async function convertToInteractive(key) {\n",
              "        const element = document.querySelector('#df-538fc01c-7bfb-488e-86f0-a42e9c1b2f53');\n",
              "        const dataTable =\n",
              "          await google.colab.kernel.invokeFunction('convertToInteractive',\n",
              "                                                    [key], {});\n",
              "        if (!dataTable) return;\n",
              "\n",
              "        const docLinkHtml = 'Like what you see? Visit the ' +\n",
              "          '<a target=\"_blank\" href=https://colab.research.google.com/notebooks/data_table.ipynb>data table notebook</a>'\n",
              "          + ' to learn more about interactive tables.';\n",
              "        element.innerHTML = '';\n",
              "        dataTable['output_type'] = 'display_data';\n",
              "        await google.colab.output.renderOutput(dataTable, element);\n",
              "        const docLink = document.createElement('div');\n",
              "        docLink.innerHTML = docLinkHtml;\n",
              "        element.appendChild(docLink);\n",
              "      }\n",
              "    </script>\n",
              "  </div>\n",
              "\n",
              "\n",
              "<div id=\"df-eac162d6-74e3-47b0-9339-acb1b408d542\">\n",
              "  <button class=\"colab-df-quickchart\" onclick=\"quickchart('df-eac162d6-74e3-47b0-9339-acb1b408d542')\"\n",
              "            title=\"Suggest charts\"\n",
              "            style=\"display:none;\">\n",
              "\n",
              "<svg xmlns=\"http://www.w3.org/2000/svg\" height=\"24px\"viewBox=\"0 0 24 24\"\n",
              "     width=\"24px\">\n",
              "    <g>\n",
              "        <path d=\"M19 3H5c-1.1 0-2 .9-2 2v14c0 1.1.9 2 2 2h14c1.1 0 2-.9 2-2V5c0-1.1-.9-2-2-2zM9 17H7v-7h2v7zm4 0h-2V7h2v10zm4 0h-2v-4h2v4z\"/>\n",
              "    </g>\n",
              "</svg>\n",
              "  </button>\n",
              "\n",
              "<style>\n",
              "  .colab-df-quickchart {\n",
              "      --bg-color: #E8F0FE;\n",
              "      --fill-color: #1967D2;\n",
              "      --hover-bg-color: #E2EBFA;\n",
              "      --hover-fill-color: #174EA6;\n",
              "      --disabled-fill-color: #AAA;\n",
              "      --disabled-bg-color: #DDD;\n",
              "  }\n",
              "\n",
              "  [theme=dark] .colab-df-quickchart {\n",
              "      --bg-color: #3B4455;\n",
              "      --fill-color: #D2E3FC;\n",
              "      --hover-bg-color: #434B5C;\n",
              "      --hover-fill-color: #FFFFFF;\n",
              "      --disabled-bg-color: #3B4455;\n",
              "      --disabled-fill-color: #666;\n",
              "  }\n",
              "\n",
              "  .colab-df-quickchart {\n",
              "    background-color: var(--bg-color);\n",
              "    border: none;\n",
              "    border-radius: 50%;\n",
              "    cursor: pointer;\n",
              "    display: none;\n",
              "    fill: var(--fill-color);\n",
              "    height: 32px;\n",
              "    padding: 0;\n",
              "    width: 32px;\n",
              "  }\n",
              "\n",
              "  .colab-df-quickchart:hover {\n",
              "    background-color: var(--hover-bg-color);\n",
              "    box-shadow: 0 1px 2px rgba(60, 64, 67, 0.3), 0 1px 3px 1px rgba(60, 64, 67, 0.15);\n",
              "    fill: var(--button-hover-fill-color);\n",
              "  }\n",
              "\n",
              "  .colab-df-quickchart-complete:disabled,\n",
              "  .colab-df-quickchart-complete:disabled:hover {\n",
              "    background-color: var(--disabled-bg-color);\n",
              "    fill: var(--disabled-fill-color);\n",
              "    box-shadow: none;\n",
              "  }\n",
              "\n",
              "  .colab-df-spinner {\n",
              "    border: 2px solid var(--fill-color);\n",
              "    border-color: transparent;\n",
              "    border-bottom-color: var(--fill-color);\n",
              "    animation:\n",
              "      spin 1s steps(1) infinite;\n",
              "  }\n",
              "\n",
              "  @keyframes spin {\n",
              "    0% {\n",
              "      border-color: transparent;\n",
              "      border-bottom-color: var(--fill-color);\n",
              "      border-left-color: var(--fill-color);\n",
              "    }\n",
              "    20% {\n",
              "      border-color: transparent;\n",
              "      border-left-color: var(--fill-color);\n",
              "      border-top-color: var(--fill-color);\n",
              "    }\n",
              "    30% {\n",
              "      border-color: transparent;\n",
              "      border-left-color: var(--fill-color);\n",
              "      border-top-color: var(--fill-color);\n",
              "      border-right-color: var(--fill-color);\n",
              "    }\n",
              "    40% {\n",
              "      border-color: transparent;\n",
              "      border-right-color: var(--fill-color);\n",
              "      border-top-color: var(--fill-color);\n",
              "    }\n",
              "    60% {\n",
              "      border-color: transparent;\n",
              "      border-right-color: var(--fill-color);\n",
              "    }\n",
              "    80% {\n",
              "      border-color: transparent;\n",
              "      border-right-color: var(--fill-color);\n",
              "      border-bottom-color: var(--fill-color);\n",
              "    }\n",
              "    90% {\n",
              "      border-color: transparent;\n",
              "      border-bottom-color: var(--fill-color);\n",
              "    }\n",
              "  }\n",
              "</style>\n",
              "\n",
              "  <script>\n",
              "    async function quickchart(key) {\n",
              "      const quickchartButtonEl =\n",
              "        document.querySelector('#' + key + ' button');\n",
              "      quickchartButtonEl.disabled = true;  // To prevent multiple clicks.\n",
              "      quickchartButtonEl.classList.add('colab-df-spinner');\n",
              "      try {\n",
              "        const charts = await google.colab.kernel.invokeFunction(\n",
              "            'suggestCharts', [key], {});\n",
              "      } catch (error) {\n",
              "        console.error('Error during call to suggestCharts:', error);\n",
              "      }\n",
              "      quickchartButtonEl.classList.remove('colab-df-spinner');\n",
              "      quickchartButtonEl.classList.add('colab-df-quickchart-complete');\n",
              "    }\n",
              "    (() => {\n",
              "      let quickchartButtonEl =\n",
              "        document.querySelector('#df-eac162d6-74e3-47b0-9339-acb1b408d542 button');\n",
              "      quickchartButtonEl.style.display =\n",
              "        google.colab.kernel.accessAllowed ? 'block' : 'none';\n",
              "    })();\n",
              "  </script>\n",
              "</div>\n",
              "\n",
              "    </div>\n",
              "  </div>\n"
            ],
            "application/vnd.google.colaboratory.intrinsic+json": {
              "type": "dataframe",
              "variable_name": "train_df"
            }
          },
          "metadata": {},
          "execution_count": 64
        }
      ]
    },
    {
      "cell_type": "code",
      "metadata": {
        "colab": {
          "base_uri": "https://localhost:8080/"
        },
        "id": "24JULAGZVQi2",
        "outputId": "dac2dbde-731c-41cb-c8ab-3ecbc65d9893"
      },
      "source": [
        "print(\"Shape of the training data\", train_df.shape)\n",
        "print(\"Number of data points\", train_df.shape[0])\n",
        "print(\"Number of features\",train_df.shape[1])"
      ],
      "execution_count": 65,
      "outputs": [
        {
          "output_type": "stream",
          "name": "stdout",
          "text": [
            "Shape of the training data (175341, 44)\n",
            "Number of data points 175341\n",
            "Number of features 44\n"
          ]
        }
      ]
    },
    {
      "cell_type": "code",
      "source": [
        "print(\"Shape of the testing data\", test_df.shape)\n",
        "print(\"Number of data points\", test_df.shape[0])\n",
        "print(\"Number of features\",test_df.shape[1])"
      ],
      "metadata": {
        "colab": {
          "base_uri": "https://localhost:8080/"
        },
        "id": "aAkk-mJie7L2",
        "outputId": "ac5dccd1-56b4-4a03-efa7-831801dcf25e"
      },
      "execution_count": 66,
      "outputs": [
        {
          "output_type": "stream",
          "name": "stdout",
          "text": [
            "Shape of the testing data (82332, 44)\n",
            "Number of data points 82332\n",
            "Number of features 44\n"
          ]
        }
      ]
    },
    {
      "cell_type": "markdown",
      "source": [
        "# Data exploration"
      ],
      "metadata": {
        "id": "i_GybCM9rtS-"
      }
    },
    {
      "cell_type": "code",
      "source": [
        "# Plot the distributions of normal class 0 and attack class 1\n",
        "plt.figure(figsize=(12,6))\n",
        "plt.subplot(1,2,1)\n",
        "sns.countplot(x ='label' , data =train_df, hue='label')\n",
        "plt.title(\"Normal and attack distribution in the train data\")\n",
        "plt.grid()\n",
        "plt.subplot(1,2,2)\n",
        "sns.countplot(x ='label' , data=test_df, hue ='label')\n",
        "plt.title(\"Normal and attack distribution in the test data\")\n",
        "plt.grid()\n",
        "plt.show()"
      ],
      "metadata": {
        "colab": {
          "base_uri": "https://localhost:8080/",
          "height": 564
        },
        "id": "Z4zLIdcqsXop",
        "outputId": "d8dff169-eb7e-4cc2-b742-d169c30f13bd"
      },
      "execution_count": 67,
      "outputs": [
        {
          "output_type": "display_data",
          "data": {
            "text/plain": [
              "<Figure size 1200x600 with 2 Axes>"
            ],
            "image/png": "[encoded data removed]"
          },
          "metadata": {}
        }
      ]
    },
    {
      "cell_type": "code",
      "source": [
        "# Plot the distribution of all attacks in the train data\n",
        "f, ax = plt.subplots(figsize=(30,6))\n",
        "# Plot the data counts per attack (there are 23 attack classes)\n",
        "ax = sns.countplot(x=\"attack\", data=train_df)\n",
        "# The total number of rows\n",
        "total = len(train_df) * 1\n",
        "# Plot bars for each attack\n",
        "for p in ax.patches:\n",
        "   ax.annotate('{:.1f}%'.format(100*p.get_height()/total), (p.get_x(), p.get_height()))\n",
        "# Set axis ticks and thicklabels\n",
        "ax.yaxis.set_ticks(np.linspace(0, total, 11))\n",
        "ax.set_yticklabels(map('{:.1f}%'.format, 100*ax.yaxis.get_majorticklocs()/total))\n",
        "\n",
        "plt.title(\"Distribution of attacks in training data\")\n",
        "plt.grid()\n",
        "plt.show()"
      ],
      "metadata": {
        "colab": {
          "base_uri": "https://localhost:8080/",
          "height": 489
        },
        "id": "v7qLAPhXrrti",
        "outputId": "323de09f-8601-42d6-f513-4b6f06ee1595"
      },
      "execution_count": 68,
      "outputs": [
        {
          "output_type": "display_data",
          "data": {
            "text/plain": [
              "<Figure size 3000x600 with 1 Axes>"
            ],
            "image/png": "[encoded data removed]"
          },
          "metadata": {}
        }
      ]
    },
    {
      "cell_type": "code",
      "source": [
        "# And plot the distribution of all attacks in the test data\n",
        "f, ax = plt.subplots(figsize=(30,6))\n",
        "# Plot the data counts per attack (there are 23 attack classes)\n",
        "ax = sns.countplot(x=\"attack\", data=test_df)\n",
        "# The total number of rows\n",
        "total = len(test_df) * 1\n",
        "# Plot bars for each attack\n",
        "for p in ax.patches:\n",
        "   ax.annotate('{:.1f}%'.format(100*p.get_height()/total), (p.get_x(), p.get_height()))\n",
        "# Set axis ticks and thicklabels\n",
        "ax.yaxis.set_ticks(np.linspace(0, total, 11))\n",
        "ax.set_yticklabels(map('{:.1f}%'.format, 100*ax.yaxis.get_majorticklocs()/total))\n",
        "\n",
        "plt.title(\"Distribution of attacks in test data\")\n",
        "plt.grid()\n",
        "plt.show()"
      ],
      "metadata": {
        "colab": {
          "base_uri": "https://localhost:8080/",
          "height": 489
        },
        "id": "87dinfiQr5Vu",
        "outputId": "22682c04-1e51-4905-c4d8-98e1bc387db9"
      },
      "execution_count": 69,
      "outputs": [
        {
          "output_type": "display_data",
          "data": {
            "text/plain": [
              "<Figure size 3000x600 with 1 Axes>"
            ],
            "image/png": "[encoded data removed]"
          },
          "metadata": {}
        }
      ]
    },
    {
      "cell_type": "code",
      "source": [
        "# Print the sorted number of datapoints belonging to each attack class\n",
        "train_class_distribution = train_df['attack'].value_counts()\n",
        "\n",
        "# Sorting them in decreasing order (by number of datapoints)\n",
        "sorted_yi = np.argsort(-train_class_distribution.values)\n",
        "# Printing the number of datapoints and the percetange\n",
        "for i in sorted_yi:\n",
        "    print('Number of data points in class', i+1, ':',train_class_distribution.values[i], '(', np.round((train_class_distribution.values[i]/len(train_df)*100), 3), '%)')"
      ],
      "metadata": {
        "colab": {
          "base_uri": "https://localhost:8080/"
        },
        "id": "fBKj6wsTr_jf",
        "outputId": "ba63706d-ff4f-4b1a-9d76-b7f7b90edb6a"
      },
      "execution_count": 70,
      "outputs": [
        {
          "output_type": "stream",
          "name": "stdout",
          "text": [
            "Number of data points in class 1 : 56000 ( 31.938 %)\n",
            "Number of data points in class 2 : 40000 ( 22.813 %)\n",
            "Number of data points in class 3 : 33393 ( 19.045 %)\n",
            "Number of data points in class 4 : 18184 ( 10.371 %)\n",
            "Number of data points in class 5 : 12264 ( 6.994 %)\n",
            "Number of data points in class 6 : 10491 ( 5.983 %)\n",
            "Number of data points in class 7 : 2000 ( 1.141 %)\n",
            "Number of data points in class 8 : 1746 ( 0.996 %)\n",
            "Number of data points in class 9 : 1133 ( 0.646 %)\n",
            "Number of data points in class 10 : 130 ( 0.074 %)\n"
          ]
        }
      ]
    },
    {
      "cell_type": "code",
      "source": [
        "# Repeat the same for the test data\n",
        "test_class_distribution = test_df['attack'].value_counts()\n",
        "\n",
        "# Sorting them in decreasing order (by number of datapoints)\n",
        "sorted_yi = np.argsort(-test_class_distribution.values)\n",
        "# Printing the number of datapoints and the percetange\n",
        "for i in sorted_yi:\n",
        "    print('Number of data points in class', i+1, ':',test_class_distribution.values[i], '(', np.round((test_class_distribution.values[i]/len(test_df)*100), 3), '%)')"
      ],
      "metadata": {
        "colab": {
          "base_uri": "https://localhost:8080/"
        },
        "id": "Yx--igBQsIVb",
        "outputId": "778dcbf8-8801-426e-b4ce-8fd7085302b6"
      },
      "execution_count": 71,
      "outputs": [
        {
          "output_type": "stream",
          "name": "stdout",
          "text": [
            "Number of data points in class 1 : 37000 ( 44.94 %)\n",
            "Number of data points in class 2 : 18871 ( 22.921 %)\n",
            "Number of data points in class 3 : 11132 ( 13.521 %)\n",
            "Number of data points in class 4 : 6062 ( 7.363 %)\n",
            "Number of data points in class 5 : 4089 ( 4.966 %)\n",
            "Number of data points in class 6 : 3496 ( 4.246 %)\n",
            "Number of data points in class 7 : 677 ( 0.822 %)\n",
            "Number of data points in class 8 : 583 ( 0.708 %)\n",
            "Number of data points in class 9 : 378 ( 0.459 %)\n",
            "Number of data points in class 10 : 44 ( 0.053 %)\n"
          ]
        }
      ]
    },
    {
      "cell_type": "code",
      "source": [
        "# The dataset have attacks that are present in the test set and not in the train set\n",
        "# Print those attacks\n",
        "\n",
        "trn = set(train_df['attack'].unique())\n",
        "tst = set(test_df['attack'].unique())\n",
        "\n",
        "extra = tst - trn\n",
        "\n",
        "print(extra)\n",
        "print(\"*\"*100)\n",
        "print(\"Number of extra attacks that are present only in the test set:\", len(extra))"
      ],
      "metadata": {
        "colab": {
          "base_uri": "https://localhost:8080/"
        },
        "id": "aUdtVJbAsM5o",
        "outputId": "dde9ec94-238e-49fd-97bc-cd931c664a0c"
      },
      "execution_count": 72,
      "outputs": [
        {
          "output_type": "stream",
          "name": "stdout",
          "text": [
            "set()\n",
            "****************************************************************************************************\n",
            "Number of extra attacks that are present only in the test set: 0\n"
          ]
        }
      ]
    },
    {
      "cell_type": "markdown",
      "source": [
        "## Data Loading Report"
      ],
      "metadata": {
        "id": "ZbcRpg9AAO7X"
      }
    },
    {
      "cell_type": "markdown",
      "source": [
        "The dataset is mainly the attack data. In the training data it is only 32% normal data, while in the test data it is 45% normal data. The percentage of the data that is attacks is relatively similar between the two sets, with some loss due to there being more normal data in the test set."
      ],
      "metadata": {
        "id": "aN3sO5MUAS7B"
      }
    },
    {
      "cell_type": "markdown",
      "source": [
        "# Convert categorical columns into numerical values"
      ],
      "metadata": {
        "id": "Z_wAvbnyrf9C"
      }
    },
    {
      "cell_type": "code",
      "source": [
        "# Display the columns and the datatype for each column\n",
        "train_df.info()"
      ],
      "metadata": {
        "colab": {
          "base_uri": "https://localhost:8080/"
        },
        "id": "G3VVB_XSiqif",
        "outputId": "aef61510-7df3-470b-b61a-63c690a2c12b"
      },
      "execution_count": 73,
      "outputs": [
        {
          "output_type": "stream",
          "name": "stdout",
          "text": [
            "<class 'pandas.core.frame.DataFrame'>\n",
            "RangeIndex: 175341 entries, 0 to 175340\n",
            "Data columns (total 44 columns):\n",
            " #   Column             Non-Null Count   Dtype  \n",
            "---  ------             --------------   -----  \n",
            " 0   dur                175341 non-null  float64\n",
            " 1   proto              175341 non-null  object \n",
            " 2   service            175341 non-null  object \n",
            " 3   state              175341 non-null  object \n",
            " 4   spkts              175341 non-null  int64  \n",
            " 5   dpkts              175341 non-null  int64  \n",
            " 6   sbytes             175341 non-null  int64  \n",
            " 7   dbytes             175341 non-null  int64  \n",
            " 8   rate               175341 non-null  float64\n",
            " 9   sttl               175341 non-null  int64  \n",
            " 10  dttl               175341 non-null  int64  \n",
            " 11  sload              175341 non-null  float64\n",
            " 12  dload              175341 non-null  float64\n",
            " 13  sloss              175341 non-null  int64  \n",
            " 14  dloss              175341 non-null  int64  \n",
            " 15  sinpkt             175341 non-null  float64\n",
            " 16  dinpkt             175341 non-null  float64\n",
            " 17  sjit               175341 non-null  float64\n",
            " 18  djit               175341 non-null  float64\n",
            " 19  swin               175341 non-null  int64  \n",
            " 20  stcpb              175341 non-null  int64  \n",
            " 21  dtcpb              175341 non-null  int64  \n",
            " 22  dwin               175341 non-null  int64  \n",
            " 23  tcprtt             175341 non-null  float64\n",
            " 24  synack             175341 non-null  float64\n",
            " 25  ackdat             175341 non-null  float64\n",
            " 26  smean              175341 non-null  int64  \n",
            " 27  dmean              175341 non-null  int64  \n",
            " 28  trans_depth        175341 non-null  int64  \n",
            " 29  response_body_len  175341 non-null  int64  \n",
            " 30  ct_srv_src         175341 non-null  int64  \n",
            " 31  ct_state_ttl       175341 non-null  int64  \n",
            " 32  ct_dst_ltm         175341 non-null  int64  \n",
            " 33  ct_src_dport_ltm   175341 non-null  int64  \n",
            " 34  ct_dst_sport_ltm   175341 non-null  int64  \n",
            " 35  ct_dst_src_ltm     175341 non-null  int64  \n",
            " 36  is_ftp_login       175341 non-null  int64  \n",
            " 37  ct_ftp_cmd         175341 non-null  int64  \n",
            " 38  ct_flw_http_mthd   175341 non-null  int64  \n",
            " 39  ct_src_ltm         175341 non-null  int64  \n",
            " 40  ct_srv_dst         175341 non-null  int64  \n",
            " 41  is_sm_ips_ports    175341 non-null  int64  \n",
            " 42  attack             175341 non-null  object \n",
            " 43  label              175341 non-null  int64  \n",
            "dtypes: float64(11), int64(29), object(4)\n",
            "memory usage: 58.9+ MB\n"
          ]
        }
      ]
    },
    {
      "cell_type": "code",
      "source": [
        "# Convert the columns with categorical values into numerical values\n",
        "from sklearn.preprocessing import OrdinalEncoder\n",
        "\n",
        "categs_feats = train_df[['proto', 'service', 'state', 'attack']]\n",
        "encoder = OrdinalEncoder()\n",
        "categs_encoded = encoder.fit_transform(categs_feats)"
      ],
      "metadata": {
        "id": "Y1tOQRqyiqwi"
      },
      "execution_count": 74,
      "outputs": []
    },
    {
      "cell_type": "code",
      "source": [
        "train_df[['proto', 'service', 'state', 'attack']] = pd.DataFrame(categs_encoded, columns=categs_feats.columns, index=categs_feats.index)\n",
        "train_df.head()"
      ],
      "metadata": {
        "colab": {
          "base_uri": "https://localhost:8080/",
          "height": 236
        },
        "id": "5uk4Pgt-jEf9",
        "outputId": "726cfac6-550d-417a-a923-1e8baf1734d1"
      },
      "execution_count": 75,
      "outputs": [
        {
          "output_type": "execute_result",
          "data": {
            "text/plain": [
              "        dur  proto  service  state  spkts  dpkts  sbytes  dbytes       rate  \\\n",
              "0  0.121478  113.0      0.0    2.0      6      4     258     172  74.087490   \n",
              "1  0.649902  113.0      0.0    2.0     14     38     734   42014  78.473372   \n",
              "2  1.623129  113.0      0.0    2.0      8     16     364   13186  14.170161   \n",
              "3  1.681642  113.0      3.0    2.0     12     12     628     770  13.677108   \n",
              "4  0.449454  113.0      0.0    2.0     10      6     534     268  33.373826   \n",
              "\n",
              "   sttl  ...  ct_dst_sport_ltm  ct_dst_src_ltm  is_ftp_login  ct_ftp_cmd  \\\n",
              "0   252  ...                 1               1             0           0   \n",
              "1    62  ...                 1               2             0           0   \n",
              "2    62  ...                 1               3             0           0   \n",
              "3    62  ...                 1               3             1           1   \n",
              "4   254  ...                 1              40             0           0   \n",
              "\n",
              "   ct_flw_http_mthd  ct_src_ltm  ct_srv_dst  is_sm_ips_ports  attack  label  \n",
              "0                 0           1           1                0     6.0      0  \n",
              "1                 0           1           6                0     6.0      0  \n",
              "2                 0           2           6                0     6.0      0  \n",
              "3                 0           2           1                0     6.0      0  \n",
              "4                 0           2          39                0     6.0      0  \n",
              "\n",
              "[5 rows x 44 columns]"
            ],
            "text/html": [
              "\n",
              "  <div id=\"df-b1dd1b12-ee60-4569-8b5b-cbdab0993640\" class=\"colab-df-container\">\n",
              "    <div>\n",
              "<style scoped>\n",
              "    .dataframe tbody tr th:only-of-type {\n",
              "        vertical-align: middle;\n",
              "    }\n",
              "\n",
              "    .dataframe tbody tr th {\n",
              "        vertical-align: top;\n",
              "    }\n",
              "\n",
              "    .dataframe thead th {\n",
              "        text-align: right;\n",
              "    }\n",
              "</style>\n",
              "<table border=\"1\" class=\"dataframe\">\n",
              "  <thead>\n",
              "    <tr style=\"text-align: right;\">\n",
              "      <th></th>\n",
              "      <th>dur</th>\n",
              "      <th>proto</th>\n",
              "      <th>service</th>\n",
              "      <th>state</th>\n",
              "      <th>spkts</th>\n",
              "      <th>dpkts</th>\n",
              "      <th>sbytes</th>\n",
              "      <th>dbytes</th>\n",
              "      <th>rate</th>\n",
              "      <th>sttl</th>\n",
              "      <th>...</th>\n",
              "      <th>ct_dst_sport_ltm</th>\n",
              "      <th>ct_dst_src_ltm</th>\n",
              "      <th>is_ftp_login</th>\n",
              "      <th>ct_ftp_cmd</th>\n",
              "      <th>ct_flw_http_mthd</th>\n",
              "      <th>ct_src_ltm</th>\n",
              "      <th>ct_srv_dst</th>\n",
              "      <th>is_sm_ips_ports</th>\n",
              "      <th>attack</th>\n",
              "      <th>label</th>\n",
              "    </tr>\n",
              "  </thead>\n",
              "  <tbody>\n",
              "    <tr>\n",
              "      <th>0</th>\n",
              "      <td>0.121478</td>\n",
              "      <td>113.0</td>\n",
              "      <td>0.0</td>\n",
              "      <td>2.0</td>\n",
              "      <td>6</td>\n",
              "      <td>4</td>\n",
              "      <td>258</td>\n",
              "      <td>172</td>\n",
              "      <td>74.087490</td>\n",
              "      <td>252</td>\n",
              "      <td>...</td>\n",
              "      <td>1</td>\n",
              "      <td>1</td>\n",
              "      <td>0</td>\n",
              "      <td>0</td>\n",
              "      <td>0</td>\n",
              "      <td>1</td>\n",
              "      <td>1</td>\n",
              "      <td>0</td>\n",
              "      <td>6.0</td>\n",
              "      <td>0</td>\n",
              "    </tr>\n",
              "    <tr>\n",
              "      <th>1</th>\n",
              "      <td>0.649902</td>\n",
              "      <td>113.0</td>\n",
              "      <td>0.0</td>\n",
              "      <td>2.0</td>\n",
              "      <td>14</td>\n",
              "      <td>38</td>\n",
              "      <td>734</td>\n",
              "      <td>42014</td>\n",
              "      <td>78.473372</td>\n",
              "      <td>62</td>\n",
              "      <td>...</td>\n",
              "      <td>1</td>\n",
              "      <td>2</td>\n",
              "      <td>0</td>\n",
              "      <td>0</td>\n",
              "      <td>0</td>\n",
              "      <td>1</td>\n",
              "      <td>6</td>\n",
              "      <td>0</td>\n",
              "      <td>6.0</td>\n",
              "      <td>0</td>\n",
              "    </tr>\n",
              "    <tr>\n",
              "      <th>2</th>\n",
              "      <td>1.623129</td>\n",
              "      <td>113.0</td>\n",
              "      <td>0.0</td>\n",
              "      <td>2.0</td>\n",
              "      <td>8</td>\n",
              "      <td>16</td>\n",
              "      <td>364</td>\n",
              "      <td>13186</td>\n",
              "      <td>14.170161</td>\n",
              "      <td>62</td>\n",
              "      <td>...</td>\n",
              "      <td>1</td>\n",
              "      <td>3</td>\n",
              "      <td>0</td>\n",
              "      <td>0</td>\n",
              "      <td>0</td>\n",
              "      <td>2</td>\n",
              "      <td>6</td>\n",
              "      <td>0</td>\n",
              "      <td>6.0</td>\n",
              "      <td>0</td>\n",
              "    </tr>\n",
              "    <tr>\n",
              "      <th>3</th>\n",
              "      <td>1.681642</td>\n",
              "      <td>113.0</td>\n",
              "      <td>3.0</td>\n",
              "      <td>2.0</td>\n",
              "      <td>12</td>\n",
              "      <td>12</td>\n",
              "      <td>628</td>\n",
              "      <td>770</td>\n",
              "      <td>13.677108</td>\n",
              "      <td>62</td>\n",
              "      <td>...</td>\n",
              "      <td>1</td>\n",
              "      <td>3</td>\n",
              "      <td>1</td>\n",
              "      <td>1</td>\n",
              "      <td>0</td>\n",
              "      <td>2</td>\n",
              "      <td>1</td>\n",
              "      <td>0</td>\n",
              "      <td>6.0</td>\n",
              "      <td>0</td>\n",
              "    </tr>\n",
              "    <tr>\n",
              "      <th>4</th>\n",
              "      <td>0.449454</td>\n",
              "      <td>113.0</td>\n",
              "      <td>0.0</td>\n",
              "      <td>2.0</td>\n",
              "      <td>10</td>\n",
              "      <td>6</td>\n",
              "      <td>534</td>\n",
              "      <td>268</td>\n",
              "      <td>33.373826</td>\n",
              "      <td>254</td>\n",
              "      <td>...</td>\n",
              "      <td>1</td>\n",
              "      <td>40</td>\n",
              "      <td>0</td>\n",
              "      <td>0</td>\n",
              "      <td>0</td>\n",
              "      <td>2</td>\n",
              "      <td>39</td>\n",
              "      <td>0</td>\n",
              "      <td>6.0</td>\n",
              "      <td>0</td>\n",
              "    </tr>\n",
              "  </tbody>\n",
              "</table>\n",
              "<p>5 rows × 44 columns</p>\n",
              "</div>\n",
              "    <div class=\"colab-df-buttons\">\n",
              "\n",
              "  <div class=\"colab-df-container\">\n",
              "    <button class=\"colab-df-convert\" onclick=\"convertToInteractive('df-b1dd1b12-ee60-4569-8b5b-cbdab0993640')\"\n",
              "            title=\"Convert this dataframe to an interactive table.\"\n",
              "            style=\"display:none;\">\n",
              "\n",
              "  <svg xmlns=\"http://www.w3.org/2000/svg\" height=\"24px\" viewBox=\"0 -960 960 960\">\n",
              "    <path d=\"M120-120v-720h720v720H120Zm60-500h600v-160H180v160Zm220 220h160v-160H400v160Zm0 220h160v-160H400v160ZM180-400h160v-160H180v160Zm440 0h160v-160H620v160ZM180-180h160v-160H180v160Zm440 0h160v-160H620v160Z\"/>\n",
              "  </svg>\n",
              "    </button>\n",
              "\n",
              "  <style>\n",
              "    .colab-df-container {\n",
              "      display:flex;\n",
              "      gap: 12px;\n",
              "    }\n",
              "\n",
              "    .colab-df-convert {\n",
              "      background-color: #E8F0FE;\n",
              "      border: none;\n",
              "      border-radius: 50%;\n",
              "      cursor: pointer;\n",
              "      display: none;\n",
              "      fill: #1967D2;\n",
              "      height: 32px;\n",
              "      padding: 0 0 0 0;\n",
              "      width: 32px;\n",
              "    }\n",
              "\n",
              "    .colab-df-convert:hover {\n",
              "      background-color: #E2EBFA;\n",
              "      box-shadow: 0px 1px 2px rgba(60, 64, 67, 0.3), 0px 1px 3px 1px rgba(60, 64, 67, 0.15);\n",
              "      fill: #174EA6;\n",
              "    }\n",
              "\n",
              "    .colab-df-buttons div {\n",
              "      margin-bottom: 4px;\n",
              "    }\n",
              "\n",
              "    [theme=dark] .colab-df-convert {\n",
              "      background-color: #3B4455;\n",
              "      fill: #D2E3FC;\n",
              "    }\n",
              "\n",
              "    [theme=dark] .colab-df-convert:hover {\n",
              "      background-color: #434B5C;\n",
              "      box-shadow: 0px 1px 3px 1px rgba(0, 0, 0, 0.15);\n",
              "      filter: drop-shadow(0px 1px 2px rgba(0, 0, 0, 0.3));\n",
              "      fill: #FFFFFF;\n",
              "    }\n",
              "  </style>\n",
              "\n",
              "    <script>\n",
              "      const buttonEl =\n",
              "        document.querySelector('#df-b1dd1b12-ee60-4569-8b5b-cbdab0993640 button.colab-df-convert');\n",
              "      buttonEl.style.display =\n",
              "        google.colab.kernel.accessAllowed ? 'block' : 'none';\n",
              "\n",
              "      async function convertToInteractive(key) {\n",
              "        const element = document.querySelector('#df-b1dd1b12-ee60-4569-8b5b-cbdab0993640');\n",
              "        const dataTable =\n",
              "          await google.colab.kernel.invokeFunction('convertToInteractive',\n",
              "                                                    [key], {});\n",
              "        if (!dataTable) return;\n",
              "\n",
              "        const docLinkHtml = 'Like what you see? Visit the ' +\n",
              "          '<a target=\"_blank\" href=https://colab.research.google.com/notebooks/data_table.ipynb>data table notebook</a>'\n",
              "          + ' to learn more about interactive tables.';\n",
              "        element.innerHTML = '';\n",
              "        dataTable['output_type'] = 'display_data';\n",
              "        await google.colab.output.renderOutput(dataTable, element);\n",
              "        const docLink = document.createElement('div');\n",
              "        docLink.innerHTML = docLinkHtml;\n",
              "        element.appendChild(docLink);\n",
              "      }\n",
              "    </script>\n",
              "  </div>\n",
              "\n",
              "\n",
              "<div id=\"df-6c599ce6-8c3c-4e80-835f-3e55be345edc\">\n",
              "  <button class=\"colab-df-quickchart\" onclick=\"quickchart('df-6c599ce6-8c3c-4e80-835f-3e55be345edc')\"\n",
              "            title=\"Suggest charts\"\n",
              "            style=\"display:none;\">\n",
              "\n",
              "<svg xmlns=\"http://www.w3.org/2000/svg\" height=\"24px\"viewBox=\"0 0 24 24\"\n",
              "     width=\"24px\">\n",
              "    <g>\n",
              "        <path d=\"M19 3H5c-1.1 0-2 .9-2 2v14c0 1.1.9 2 2 2h14c1.1 0 2-.9 2-2V5c0-1.1-.9-2-2-2zM9 17H7v-7h2v7zm4 0h-2V7h2v10zm4 0h-2v-4h2v4z\"/>\n",
              "    </g>\n",
              "</svg>\n",
              "  </button>\n",
              "\n",
              "<style>\n",
              "  .colab-df-quickchart {\n",
              "      --bg-color: #E8F0FE;\n",
              "      --fill-color: #1967D2;\n",
              "      --hover-bg-color: #E2EBFA;\n",
              "      --hover-fill-color: #174EA6;\n",
              "      --disabled-fill-color: #AAA;\n",
              "      --disabled-bg-color: #DDD;\n",
              "  }\n",
              "\n",
              "  [theme=dark] .colab-df-quickchart {\n",
              "      --bg-color: #3B4455;\n",
              "      --fill-color: #D2E3FC;\n",
              "      --hover-bg-color: #434B5C;\n",
              "      --hover-fill-color: #FFFFFF;\n",
              "      --disabled-bg-color: #3B4455;\n",
              "      --disabled-fill-color: #666;\n",
              "  }\n",
              "\n",
              "  .colab-df-quickchart {\n",
              "    background-color: var(--bg-color);\n",
              "    border: none;\n",
              "    border-radius: 50%;\n",
              "    cursor: pointer;\n",
              "    display: none;\n",
              "    fill: var(--fill-color);\n",
              "    height: 32px;\n",
              "    padding: 0;\n",
              "    width: 32px;\n",
              "  }\n",
              "\n",
              "  .colab-df-quickchart:hover {\n",
              "    background-color: var(--hover-bg-color);\n",
              "    box-shadow: 0 1px 2px rgba(60, 64, 67, 0.3), 0 1px 3px 1px rgba(60, 64, 67, 0.15);\n",
              "    fill: var(--button-hover-fill-color);\n",
              "  }\n",
              "\n",
              "  .colab-df-quickchart-complete:disabled,\n",
              "  .colab-df-quickchart-complete:disabled:hover {\n",
              "    background-color: var(--disabled-bg-color);\n",
              "    fill: var(--disabled-fill-color);\n",
              "    box-shadow: none;\n",
              "  }\n",
              "\n",
              "  .colab-df-spinner {\n",
              "    border: 2px solid var(--fill-color);\n",
              "    border-color: transparent;\n",
              "    border-bottom-color: var(--fill-color);\n",
              "    animation:\n",
              "      spin 1s steps(1) infinite;\n",
              "  }\n",
              "\n",
              "  @keyframes spin {\n",
              "    0% {\n",
              "      border-color: transparent;\n",
              "      border-bottom-color: var(--fill-color);\n",
              "      border-left-color: var(--fill-color);\n",
              "    }\n",
              "    20% {\n",
              "      border-color: transparent;\n",
              "      border-left-color: var(--fill-color);\n",
              "      border-top-color: var(--fill-color);\n",
              "    }\n",
              "    30% {\n",
              "      border-color: transparent;\n",
              "      border-left-color: var(--fill-color);\n",
              "      border-top-color: var(--fill-color);\n",
              "      border-right-color: var(--fill-color);\n",
              "    }\n",
              "    40% {\n",
              "      border-color: transparent;\n",
              "      border-right-color: var(--fill-color);\n",
              "      border-top-color: var(--fill-color);\n",
              "    }\n",
              "    60% {\n",
              "      border-color: transparent;\n",
              "      border-right-color: var(--fill-color);\n",
              "    }\n",
              "    80% {\n",
              "      border-color: transparent;\n",
              "      border-right-color: var(--fill-color);\n",
              "      border-bottom-color: var(--fill-color);\n",
              "    }\n",
              "    90% {\n",
              "      border-color: transparent;\n",
              "      border-bottom-color: var(--fill-color);\n",
              "    }\n",
              "  }\n",
              "</style>\n",
              "\n",
              "  <script>\n",
              "    async function quickchart(key) {\n",
              "      const quickchartButtonEl =\n",
              "        document.querySelector('#' + key + ' button');\n",
              "      quickchartButtonEl.disabled = true;  // To prevent multiple clicks.\n",
              "      quickchartButtonEl.classList.add('colab-df-spinner');\n",
              "      try {\n",
              "        const charts = await google.colab.kernel.invokeFunction(\n",
              "            'suggestCharts', [key], {});\n",
              "      } catch (error) {\n",
              "        console.error('Error during call to suggestCharts:', error);\n",
              "      }\n",
              "      quickchartButtonEl.classList.remove('colab-df-spinner');\n",
              "      quickchartButtonEl.classList.add('colab-df-quickchart-complete');\n",
              "    }\n",
              "    (() => {\n",
              "      let quickchartButtonEl =\n",
              "        document.querySelector('#df-6c599ce6-8c3c-4e80-835f-3e55be345edc button');\n",
              "      quickchartButtonEl.style.display =\n",
              "        google.colab.kernel.accessAllowed ? 'block' : 'none';\n",
              "    })();\n",
              "  </script>\n",
              "</div>\n",
              "\n",
              "    </div>\n",
              "  </div>\n"
            ],
            "application/vnd.google.colaboratory.intrinsic+json": {
              "type": "dataframe",
              "variable_name": "train_df"
            }
          },
          "metadata": {},
          "execution_count": 75
        }
      ]
    },
    {
      "cell_type": "code",
      "source": [
        "# Create a training dataset\n",
        "X_train = train_df.drop(['attack', 'label'], axis=1)\n",
        "y_train = train_df['label']"
      ],
      "metadata": {
        "id": "a6gd8PAbjEj2"
      },
      "execution_count": 76,
      "outputs": []
    },
    {
      "cell_type": "code",
      "source": [
        "# Repeat the same for the test dataset\n",
        "test_df.info()"
      ],
      "metadata": {
        "colab": {
          "base_uri": "https://localhost:8080/"
        },
        "id": "3H3UNs5glC16",
        "outputId": "8a7550ba-3849-4e24-cf0f-da2e910de07c"
      },
      "execution_count": 77,
      "outputs": [
        {
          "output_type": "stream",
          "name": "stdout",
          "text": [
            "<class 'pandas.core.frame.DataFrame'>\n",
            "RangeIndex: 82332 entries, 0 to 82331\n",
            "Data columns (total 44 columns):\n",
            " #   Column             Non-Null Count  Dtype  \n",
            "---  ------             --------------  -----  \n",
            " 0   dur                82332 non-null  float64\n",
            " 1   proto              82332 non-null  object \n",
            " 2   service            82332 non-null  object \n",
            " 3   state              82332 non-null  object \n",
            " 4   spkts              82332 non-null  int64  \n",
            " 5   dpkts              82332 non-null  int64  \n",
            " 6   sbytes             82332 non-null  int64  \n",
            " 7   dbytes             82332 non-null  int64  \n",
            " 8   rate               82332 non-null  float64\n",
            " 9   sttl               82332 non-null  int64  \n",
            " 10  dttl               82332 non-null  int64  \n",
            " 11  sload              82332 non-null  float64\n",
            " 12  dload              82332 non-null  float64\n",
            " 13  sloss              82332 non-null  int64  \n",
            " 14  dloss              82332 non-null  int64  \n",
            " 15  sinpkt             82332 non-null  float64\n",
            " 16  dinpkt             82332 non-null  float64\n",
            " 17  sjit               82332 non-null  float64\n",
            " 18  djit               82332 non-null  float64\n",
            " 19  swin               82332 non-null  int64  \n",
            " 20  stcpb              82332 non-null  int64  \n",
            " 21  dtcpb              82332 non-null  int64  \n",
            " 22  dwin               82332 non-null  int64  \n",
            " 23  tcprtt             82332 non-null  float64\n",
            " 24  synack             82332 non-null  float64\n",
            " 25  ackdat             82332 non-null  float64\n",
            " 26  smean              82332 non-null  int64  \n",
            " 27  dmean              82332 non-null  int64  \n",
            " 28  trans_depth        82332 non-null  int64  \n",
            " 29  response_body_len  82332 non-null  int64  \n",
            " 30  ct_srv_src         82332 non-null  int64  \n",
            " 31  ct_state_ttl       82332 non-null  int64  \n",
            " 32  ct_dst_ltm         82332 non-null  int64  \n",
            " 33  ct_src_dport_ltm   82332 non-null  int64  \n",
            " 34  ct_dst_sport_ltm   82332 non-null  int64  \n",
            " 35  ct_dst_src_ltm     82332 non-null  int64  \n",
            " 36  is_ftp_login       82332 non-null  int64  \n",
            " 37  ct_ftp_cmd         82332 non-null  int64  \n",
            " 38  ct_flw_http_mthd   82332 non-null  int64  \n",
            " 39  ct_src_ltm         82332 non-null  int64  \n",
            " 40  ct_srv_dst         82332 non-null  int64  \n",
            " 41  is_sm_ips_ports    82332 non-null  int64  \n",
            " 42  attack             82332 non-null  object \n",
            " 43  label              82332 non-null  int64  \n",
            "dtypes: float64(11), int64(29), object(4)\n",
            "memory usage: 27.6+ MB\n"
          ]
        }
      ]
    },
    {
      "cell_type": "code",
      "source": [
        "categs_feats = test_df[['proto', 'service', 'state', 'attack']]\n",
        "encoder = OrdinalEncoder()\n",
        "categs_encoded = encoder.fit_transform(categs_feats)"
      ],
      "metadata": {
        "id": "7a54IrR0lC34"
      },
      "execution_count": 78,
      "outputs": []
    },
    {
      "cell_type": "code",
      "source": [
        "test_df[['proto', 'service', 'state', 'attack']] = pd.DataFrame(categs_encoded, columns=categs_feats.columns, index=categs_feats.index)\n",
        "test_df.head()"
      ],
      "metadata": {
        "colab": {
          "base_uri": "https://localhost:8080/",
          "height": 236
        },
        "id": "FwQeJotxlC55",
        "outputId": "dc8a29f1-4741-4810-814e-9928c4f26348"
      },
      "execution_count": 79,
      "outputs": [
        {
          "output_type": "execute_result",
          "data": {
            "text/plain": [
              "        dur  proto  service  state  spkts  dpkts  sbytes  dbytes         rate  \\\n",
              "0  0.000011  117.0      0.0    4.0      2      0     496       0   90909.0902   \n",
              "1  0.000008  117.0      0.0    4.0      2      0    1762       0  125000.0003   \n",
              "2  0.000005  117.0      0.0    4.0      2      0    1068       0  200000.0051   \n",
              "3  0.000006  117.0      0.0    4.0      2      0     900       0  166666.6608   \n",
              "4  0.000010  117.0      0.0    4.0      2      0    2126       0  100000.0025   \n",
              "\n",
              "   sttl  ...  ct_dst_sport_ltm  ct_dst_src_ltm  is_ftp_login  ct_ftp_cmd  \\\n",
              "0   254  ...                 1               2             0           0   \n",
              "1   254  ...                 1               2             0           0   \n",
              "2   254  ...                 1               3             0           0   \n",
              "3   254  ...                 1               3             0           0   \n",
              "4   254  ...                 1               3             0           0   \n",
              "\n",
              "   ct_flw_http_mthd  ct_src_ltm  ct_srv_dst  is_sm_ips_ports  attack  label  \n",
              "0                 0           1           2                0     6.0      0  \n",
              "1                 0           1           2                0     6.0      0  \n",
              "2                 0           1           3                0     6.0      0  \n",
              "3                 0           2           3                0     6.0      0  \n",
              "4                 0           2           3                0     6.0      0  \n",
              "\n",
              "[5 rows x 44 columns]"
            ],
            "text/html": [
              "\n",
              "  <div id=\"df-6f4e3346-9c73-4492-babe-8ab081334f06\" class=\"colab-df-container\">\n",
              "    <div>\n",
              "<style scoped>\n",
              "    .dataframe tbody tr th:only-of-type {\n",
              "        vertical-align: middle;\n",
              "    }\n",
              "\n",
              "    .dataframe tbody tr th {\n",
              "        vertical-align: top;\n",
              "    }\n",
              "\n",
              "    .dataframe thead th {\n",
              "        text-align: right;\n",
              "    }\n",
              "</style>\n",
              "<table border=\"1\" class=\"dataframe\">\n",
              "  <thead>\n",
              "    <tr style=\"text-align: right;\">\n",
              "      <th></th>\n",
              "      <th>dur</th>\n",
              "      <th>proto</th>\n",
              "      <th>service</th>\n",
              "      <th>state</th>\n",
              "      <th>spkts</th>\n",
              "      <th>dpkts</th>\n",
              "      <th>sbytes</th>\n",
              "      <th>dbytes</th>\n",
              "      <th>rate</th>\n",
              "      <th>sttl</th>\n",
              "      <th>...</th>\n",
              "      <th>ct_dst_sport_ltm</th>\n",
              "      <th>ct_dst_src_ltm</th>\n",
              "      <th>is_ftp_login</th>\n",
              "      <th>ct_ftp_cmd</th>\n",
              "      <th>ct_flw_http_mthd</th>\n",
              "      <th>ct_src_ltm</th>\n",
              "      <th>ct_srv_dst</th>\n",
              "      <th>is_sm_ips_ports</th>\n",
              "      <th>attack</th>\n",
              "      <th>label</th>\n",
              "    </tr>\n",
              "  </thead>\n",
              "  <tbody>\n",
              "    <tr>\n",
              "      <th>0</th>\n",
              "      <td>0.000011</td>\n",
              "      <td>117.0</td>\n",
              "      <td>0.0</td>\n",
              "      <td>4.0</td>\n",
              "      <td>2</td>\n",
              "      <td>0</td>\n",
              "      <td>496</td>\n",
              "      <td>0</td>\n",
              "      <td>90909.0902</td>\n",
              "      <td>254</td>\n",
              "      <td>...</td>\n",
              "      <td>1</td>\n",
              "      <td>2</td>\n",
              "      <td>0</td>\n",
              "      <td>0</td>\n",
              "      <td>0</td>\n",
              "      <td>1</td>\n",
              "      <td>2</td>\n",
              "      <td>0</td>\n",
              "      <td>6.0</td>\n",
              "      <td>0</td>\n",
              "    </tr>\n",
              "    <tr>\n",
              "      <th>1</th>\n",
              "      <td>0.000008</td>\n",
              "      <td>117.0</td>\n",
              "      <td>0.0</td>\n",
              "      <td>4.0</td>\n",
              "      <td>2</td>\n",
              "      <td>0</td>\n",
              "      <td>1762</td>\n",
              "      <td>0</td>\n",
              "      <td>125000.0003</td>\n",
              "      <td>254</td>\n",
              "      <td>...</td>\n",
              "      <td>1</td>\n",
              "      <td>2</td>\n",
              "      <td>0</td>\n",
              "      <td>0</td>\n",
              "      <td>0</td>\n",
              "      <td>1</td>\n",
              "      <td>2</td>\n",
              "      <td>0</td>\n",
              "      <td>6.0</td>\n",
              "      <td>0</td>\n",
              "    </tr>\n",
              "    <tr>\n",
              "      <th>2</th>\n",
              "      <td>0.000005</td>\n",
              "      <td>117.0</td>\n",
              "      <td>0.0</td>\n",
              "      <td>4.0</td>\n",
              "      <td>2</td>\n",
              "      <td>0</td>\n",
              "      <td>1068</td>\n",
              "      <td>0</td>\n",
              "      <td>200000.0051</td>\n",
              "      <td>254</td>\n",
              "      <td>...</td>\n",
              "      <td>1</td>\n",
              "      <td>3</td>\n",
              "      <td>0</td>\n",
              "      <td>0</td>\n",
              "      <td>0</td>\n",
              "      <td>1</td>\n",
              "      <td>3</td>\n",
              "      <td>0</td>\n",
              "      <td>6.0</td>\n",
              "      <td>0</td>\n",
              "    </tr>\n",
              "    <tr>\n",
              "      <th>3</th>\n",
              "      <td>0.000006</td>\n",
              "      <td>117.0</td>\n",
              "      <td>0.0</td>\n",
              "      <td>4.0</td>\n",
              "      <td>2</td>\n",
              "      <td>0</td>\n",
              "      <td>900</td>\n",
              "      <td>0</td>\n",
              "      <td>166666.6608</td>\n",
              "      <td>254</td>\n",
              "      <td>...</td>\n",
              "      <td>1</td>\n",
              "      <td>3</td>\n",
              "      <td>0</td>\n",
              "      <td>0</td>\n",
              "      <td>0</td>\n",
              "      <td>2</td>\n",
              "      <td>3</td>\n",
              "      <td>0</td>\n",
              "      <td>6.0</td>\n",
              "      <td>0</td>\n",
              "    </tr>\n",
              "    <tr>\n",
              "      <th>4</th>\n",
              "      <td>0.000010</td>\n",
              "      <td>117.0</td>\n",
              "      <td>0.0</td>\n",
              "      <td>4.0</td>\n",
              "      <td>2</td>\n",
              "      <td>0</td>\n",
              "      <td>2126</td>\n",
              "      <td>0</td>\n",
              "      <td>100000.0025</td>\n",
              "      <td>254</td>\n",
              "      <td>...</td>\n",
              "      <td>1</td>\n",
              "      <td>3</td>\n",
              "      <td>0</td>\n",
              "      <td>0</td>\n",
              "      <td>0</td>\n",
              "      <td>2</td>\n",
              "      <td>3</td>\n",
              "      <td>0</td>\n",
              "      <td>6.0</td>\n",
              "      <td>0</td>\n",
              "    </tr>\n",
              "  </tbody>\n",
              "</table>\n",
              "<p>5 rows × 44 columns</p>\n",
              "</div>\n",
              "    <div class=\"colab-df-buttons\">\n",
              "\n",
              "  <div class=\"colab-df-container\">\n",
              "    <button class=\"colab-df-convert\" onclick=\"convertToInteractive('df-6f4e3346-9c73-4492-babe-8ab081334f06')\"\n",
              "            title=\"Convert this dataframe to an interactive table.\"\n",
              "            style=\"display:none;\">\n",
              "\n",
              "  <svg xmlns=\"http://www.w3.org/2000/svg\" height=\"24px\" viewBox=\"0 -960 960 960\">\n",
              "    <path d=\"M120-120v-720h720v720H120Zm60-500h600v-160H180v160Zm220 220h160v-160H400v160Zm0 220h160v-160H400v160ZM180-400h160v-160H180v160Zm440 0h160v-160H620v160ZM180-180h160v-160H180v160Zm440 0h160v-160H620v160Z\"/>\n",
              "  </svg>\n",
              "    </button>\n",
              "\n",
              "  <style>\n",
              "    .colab-df-container {\n",
              "      display:flex;\n",
              "      gap: 12px;\n",
              "    }\n",
              "\n",
              "    .colab-df-convert {\n",
              "      background-color: #E8F0FE;\n",
              "      border: none;\n",
              "      border-radius: 50%;\n",
              "      cursor: pointer;\n",
              "      display: none;\n",
              "      fill: #1967D2;\n",
              "      height: 32px;\n",
              "      padding: 0 0 0 0;\n",
              "      width: 32px;\n",
              "    }\n",
              "\n",
              "    .colab-df-convert:hover {\n",
              "      background-color: #E2EBFA;\n",
              "      box-shadow: 0px 1px 2px rgba(60, 64, 67, 0.3), 0px 1px 3px 1px rgba(60, 64, 67, 0.15);\n",
              "      fill: #174EA6;\n",
              "    }\n",
              "\n",
              "    .colab-df-buttons div {\n",
              "      margin-bottom: 4px;\n",
              "    }\n",
              "\n",
              "    [theme=dark] .colab-df-convert {\n",
              "      background-color: #3B4455;\n",
              "      fill: #D2E3FC;\n",
              "    }\n",
              "\n",
              "    [theme=dark] .colab-df-convert:hover {\n",
              "      background-color: #434B5C;\n",
              "      box-shadow: 0px 1px 3px 1px rgba(0, 0, 0, 0.15);\n",
              "      filter: drop-shadow(0px 1px 2px rgba(0, 0, 0, 0.3));\n",
              "      fill: #FFFFFF;\n",
              "    }\n",
              "  </style>\n",
              "\n",
              "    <script>\n",
              "      const buttonEl =\n",
              "        document.querySelector('#df-6f4e3346-9c73-4492-babe-8ab081334f06 button.colab-df-convert');\n",
              "      buttonEl.style.display =\n",
              "        google.colab.kernel.accessAllowed ? 'block' : 'none';\n",
              "\n",
              "      async function convertToInteractive(key) {\n",
              "        const element = document.querySelector('#df-6f4e3346-9c73-4492-babe-8ab081334f06');\n",
              "        const dataTable =\n",
              "          await google.colab.kernel.invokeFunction('convertToInteractive',\n",
              "                                                    [key], {});\n",
              "        if (!dataTable) return;\n",
              "\n",
              "        const docLinkHtml = 'Like what you see? Visit the ' +\n",
              "          '<a target=\"_blank\" href=https://colab.research.google.com/notebooks/data_table.ipynb>data table notebook</a>'\n",
              "          + ' to learn more about interactive tables.';\n",
              "        element.innerHTML = '';\n",
              "        dataTable['output_type'] = 'display_data';\n",
              "        await google.colab.output.renderOutput(dataTable, element);\n",
              "        const docLink = document.createElement('div');\n",
              "        docLink.innerHTML = docLinkHtml;\n",
              "        element.appendChild(docLink);\n",
              "      }\n",
              "    </script>\n",
              "  </div>\n",
              "\n",
              "\n",
              "<div id=\"df-b2a43074-aa1a-42f2-a6cc-6cd45c58044c\">\n",
              "  <button class=\"colab-df-quickchart\" onclick=\"quickchart('df-b2a43074-aa1a-42f2-a6cc-6cd45c58044c')\"\n",
              "            title=\"Suggest charts\"\n",
              "            style=\"display:none;\">\n",
              "\n",
              "<svg xmlns=\"http://www.w3.org/2000/svg\" height=\"24px\"viewBox=\"0 0 24 24\"\n",
              "     width=\"24px\">\n",
              "    <g>\n",
              "        <path d=\"M19 3H5c-1.1 0-2 .9-2 2v14c0 1.1.9 2 2 2h14c1.1 0 2-.9 2-2V5c0-1.1-.9-2-2-2zM9 17H7v-7h2v7zm4 0h-2V7h2v10zm4 0h-2v-4h2v4z\"/>\n",
              "    </g>\n",
              "</svg>\n",
              "  </button>\n",
              "\n",
              "<style>\n",
              "  .colab-df-quickchart {\n",
              "      --bg-color: #E8F0FE;\n",
              "      --fill-color: #1967D2;\n",
              "      --hover-bg-color: #E2EBFA;\n",
              "      --hover-fill-color: #174EA6;\n",
              "      --disabled-fill-color: #AAA;\n",
              "      --disabled-bg-color: #DDD;\n",
              "  }\n",
              "\n",
              "  [theme=dark] .colab-df-quickchart {\n",
              "      --bg-color: #3B4455;\n",
              "      --fill-color: #D2E3FC;\n",
              "      --hover-bg-color: #434B5C;\n",
              "      --hover-fill-color: #FFFFFF;\n",
              "      --disabled-bg-color: #3B4455;\n",
              "      --disabled-fill-color: #666;\n",
              "  }\n",
              "\n",
              "  .colab-df-quickchart {\n",
              "    background-color: var(--bg-color);\n",
              "    border: none;\n",
              "    border-radius: 50%;\n",
              "    cursor: pointer;\n",
              "    display: none;\n",
              "    fill: var(--fill-color);\n",
              "    height: 32px;\n",
              "    padding: 0;\n",
              "    width: 32px;\n",
              "  }\n",
              "\n",
              "  .colab-df-quickchart:hover {\n",
              "    background-color: var(--hover-bg-color);\n",
              "    box-shadow: 0 1px 2px rgba(60, 64, 67, 0.3), 0 1px 3px 1px rgba(60, 64, 67, 0.15);\n",
              "    fill: var(--button-hover-fill-color);\n",
              "  }\n",
              "\n",
              "  .colab-df-quickchart-complete:disabled,\n",
              "  .colab-df-quickchart-complete:disabled:hover {\n",
              "    background-color: var(--disabled-bg-color);\n",
              "    fill: var(--disabled-fill-color);\n",
              "    box-shadow: none;\n",
              "  }\n",
              "\n",
              "  .colab-df-spinner {\n",
              "    border: 2px solid var(--fill-color);\n",
              "    border-color: transparent;\n",
              "    border-bottom-color: var(--fill-color);\n",
              "    animation:\n",
              "      spin 1s steps(1) infinite;\n",
              "  }\n",
              "\n",
              "  @keyframes spin {\n",
              "    0% {\n",
              "      border-color: transparent;\n",
              "      border-bottom-color: var(--fill-color);\n",
              "      border-left-color: var(--fill-color);\n",
              "    }\n",
              "    20% {\n",
              "      border-color: transparent;\n",
              "      border-left-color: var(--fill-color);\n",
              "      border-top-color: var(--fill-color);\n",
              "    }\n",
              "    30% {\n",
              "      border-color: transparent;\n",
              "      border-left-color: var(--fill-color);\n",
              "      border-top-color: var(--fill-color);\n",
              "      border-right-color: var(--fill-color);\n",
              "    }\n",
              "    40% {\n",
              "      border-color: transparent;\n",
              "      border-right-color: var(--fill-color);\n",
              "      border-top-color: var(--fill-color);\n",
              "    }\n",
              "    60% {\n",
              "      border-color: transparent;\n",
              "      border-right-color: var(--fill-color);\n",
              "    }\n",
              "    80% {\n",
              "      border-color: transparent;\n",
              "      border-right-color: var(--fill-color);\n",
              "      border-bottom-color: var(--fill-color);\n",
              "    }\n",
              "    90% {\n",
              "      border-color: transparent;\n",
              "      border-bottom-color: var(--fill-color);\n",
              "    }\n",
              "  }\n",
              "</style>\n",
              "\n",
              "  <script>\n",
              "    async function quickchart(key) {\n",
              "      const quickchartButtonEl =\n",
              "        document.querySelector('#' + key + ' button');\n",
              "      quickchartButtonEl.disabled = true;  // To prevent multiple clicks.\n",
              "      quickchartButtonEl.classList.add('colab-df-spinner');\n",
              "      try {\n",
              "        const charts = await google.colab.kernel.invokeFunction(\n",
              "            'suggestCharts', [key], {});\n",
              "      } catch (error) {\n",
              "        console.error('Error during call to suggestCharts:', error);\n",
              "      }\n",
              "      quickchartButtonEl.classList.remove('colab-df-spinner');\n",
              "      quickchartButtonEl.classList.add('colab-df-quickchart-complete');\n",
              "    }\n",
              "    (() => {\n",
              "      let quickchartButtonEl =\n",
              "        document.querySelector('#df-b2a43074-aa1a-42f2-a6cc-6cd45c58044c button');\n",
              "      quickchartButtonEl.style.display =\n",
              "        google.colab.kernel.accessAllowed ? 'block' : 'none';\n",
              "    })();\n",
              "  </script>\n",
              "</div>\n",
              "\n",
              "    </div>\n",
              "  </div>\n"
            ],
            "application/vnd.google.colaboratory.intrinsic+json": {
              "type": "dataframe",
              "variable_name": "test_df"
            }
          },
          "metadata": {},
          "execution_count": 79
        }
      ]
    },
    {
      "cell_type": "code",
      "source": [
        "# Create a test dataset\n",
        "X_test = test_df.drop(['attack', 'label'], axis=1)\n",
        "y_test = test_df['label']"
      ],
      "metadata": {
        "id": "Qddd0HUIlC9o"
      },
      "execution_count": 80,
      "outputs": []
    },
    {
      "cell_type": "markdown",
      "metadata": {
        "id": "0NHdwNjJPsh9"
      },
      "source": [
        "# Normalize the data values in each column to the range [0,1]"
      ]
    },
    {
      "cell_type": "code",
      "metadata": {
        "id": "AQnc2rhH5g_p"
      },
      "source": [
        "# Standardize features by scaling each feature to range [0, 1]\n",
        "scaler = MinMaxScaler()\n",
        "X_train = scaler.fit_transform(X_train)\n",
        "X_test = scaler.transform(X_test)"
      ],
      "execution_count": 81,
      "outputs": []
    },
    {
      "cell_type": "code",
      "source": [
        "# Note: the variables are now numpy arrays, and not pandas dataframes\n",
        "print('Data type:', type(X_train))\n",
        "\n",
        "# Display the shapes of train and test datasets\n",
        "print('\\nTrain shape: {}'.format(X_train.shape))\n",
        "print('Test shape: {}'.format(X_test.shape))\n",
        "\n",
        "# Display the range to make sure they are in the [0, 1] range\n",
        "print('\\nMax value', np.max(X_train))\n",
        "print('Min value', np.min(X_train))\n",
        "print('Average value', np.mean(X_train))"
      ],
      "metadata": {
        "colab": {
          "base_uri": "https://localhost:8080/"
        },
        "id": "rgFBi8irc308",
        "outputId": "80c2b992-4bbf-44b2-d2be-617ddeeb30cc"
      },
      "execution_count": 82,
      "outputs": [
        {
          "output_type": "stream",
          "name": "stdout",
          "text": [
            "Data type: <class 'numpy.ndarray'>\n",
            "\n",
            "Train shape: (175341, 42)\n",
            "Test shape: (82332, 42)\n",
            "\n",
            "Max value 1.0000000000000002\n",
            "Min value 0.0\n",
            "Average value 0.11947813197204081\n"
          ]
        }
      ]
    },
    {
      "cell_type": "code",
      "metadata": {
        "colab": {
          "base_uri": "https://localhost:8080/",
          "height": 452
        },
        "id": "lwZqvSgRUR96",
        "outputId": "6cea2d1d-a5ab-4415-8f6b-2471eb53b33f"
      },
      "source": [
        "# Let's examine the mean values for each of the columns\n",
        "plt.plot(np.mean(X_train, axis=0), 'o')\n",
        "plt.title(\"Plot of the mean values for each column\")\n",
        "plt.show()"
      ],
      "execution_count": 83,
      "outputs": [
        {
          "output_type": "display_data",
          "data": {
            "text/plain": [
              "<Figure size 640x480 with 1 Axes>"
            ],
            "image/png": "[encoded data removed]"
          },
          "metadata": {}
        }
      ]
    },
    {
      "cell_type": "markdown",
      "metadata": {
        "id": "zD1Ffb2ETM2k"
      },
      "source": [
        "# Train Conventional ML Classifiers"
      ]
    },
    {
      "cell_type": "code",
      "source": [
        "from sklearn.svm import SVC\n",
        "from sklearn.linear_model import LogisticRegression\n",
        "from sklearn.tree import DecisionTreeClassifier\n",
        "from sklearn.ensemble import RandomForestClassifier\n",
        "from sklearn.neighbors import KNeighborsClassifier\n",
        "from sklearn.naive_bayes import GaussianNB\n",
        "from sklearn.svm import SVC\n",
        "from sklearn import neighbors\n",
        "from sklearn.naive_bayes import GaussianNB"
      ],
      "metadata": {
        "id": "rUh41innsj1q"
      },
      "execution_count": 84,
      "outputs": []
    },
    {
      "cell_type": "code",
      "source": [
        "print('LOGISTIC REGRESSION')\n",
        "model_lr = LogisticRegression()\n",
        "model_lr.fit(X_train, y_train)\n",
        "\n",
        "print('Accuracy:', model_lr.score(X_test, y_test))"
      ],
      "metadata": {
        "id": "xvS8jUpZsj8M",
        "colab": {
          "base_uri": "https://localhost:8080/"
        },
        "outputId": "ef121c12-775e-41e5-c422-3f51571c36d2"
      },
      "execution_count": 85,
      "outputs": [
        {
          "output_type": "stream",
          "name": "stdout",
          "text": [
            "LOGISTIC REGRESSION\n",
            "Accuracy: 0.7893650099596755\n"
          ]
        }
      ]
    },
    {
      "cell_type": "code",
      "metadata": {
        "colab": {
          "base_uri": "https://localhost:8080/"
        },
        "id": "IScJdAt1xgaf",
        "outputId": "da06aed6-57b9-483d-e3c6-773dcb64be0c"
      },
      "source": [
        "print('*** RANDOM FOREST ***')\n",
        "model_rf = RandomForestClassifier(verbose=0, warm_start=True)\n",
        "model_rf.fit(X_train, y_train)\n",
        "\n",
        "print('Accuracy:', model_rf.score(X_test, y_test))"
      ],
      "execution_count": 86,
      "outputs": [
        {
          "output_type": "stream",
          "name": "stdout",
          "text": [
            "*** RANDOM FOREST ***\n",
            "Accuracy: 0.8717631054753923\n"
          ]
        }
      ]
    },
    {
      "cell_type": "code",
      "source": [
        "print('*** DECISION TREE ***')\n",
        "model_dt = DecisionTreeClassifier()\n",
        "model_dt.fit(X_train, y_train)\n",
        "\n",
        "print('Accuracy:', model_dt.score(X_test, y_test))"
      ],
      "metadata": {
        "id": "lRDy0juKsj33",
        "colab": {
          "base_uri": "https://localhost:8080/"
        },
        "outputId": "ee50d467-4daf-48e6-bd6a-da7a75644afd"
      },
      "execution_count": 87,
      "outputs": [
        {
          "output_type": "stream",
          "name": "stdout",
          "text": [
            "*** DECISION TREE ***\n",
            "Accuracy: 0.8584147111694117\n"
          ]
        }
      ]
    },
    {
      "cell_type": "code",
      "source": [
        "print('*** K-NEAREST NEIGHBORS ***')\n",
        "model_knn = KNeighborsClassifier(n_neighbors=3)\n",
        "model_knn.fit(X_train, y_train)\n",
        "\n",
        "print('Accuracy:', model_knn.score(X_test, y_test))"
      ],
      "metadata": {
        "colab": {
          "base_uri": "https://localhost:8080/"
        },
        "id": "9GlwnnjdDBjA",
        "outputId": "6743e727-f46b-4ad4-e04b-9f1d4d4a9f59"
      },
      "execution_count": 88,
      "outputs": [
        {
          "output_type": "stream",
          "name": "stdout",
          "text": [
            "*** K-NEAREST NEIGHBORS ***\n",
            "Accuracy: 0.8466452898022641\n"
          ]
        }
      ]
    },
    {
      "cell_type": "code",
      "source": [
        "print('*** NAIVE BAYES ***')\n",
        "model_nb = GaussianNB()\n",
        "model_nb.fit(X_train, y_train)\n",
        "\n",
        "print('Accuracy:', model_nb.score(X_test, y_test))"
      ],
      "metadata": {
        "colab": {
          "base_uri": "https://localhost:8080/"
        },
        "id": "RgasJYNsDPYs",
        "outputId": "68460cb2-4341-4c52-e0d0-8f019346b1ad"
      },
      "execution_count": 89,
      "outputs": [
        {
          "output_type": "stream",
          "name": "stdout",
          "text": [
            "*** NAIVE BAYES ***\n",
            "Accuracy: 0.7429189136666181\n"
          ]
        }
      ]
    },
    {
      "cell_type": "code",
      "source": [
        "print('*** SUPPORT VECTOR MACHINE ***')\n",
        "model_svm = SVC()\n",
        "model_svm.fit(X_train, y_train)\n",
        "\n",
        "print('Accuracy:', model_svm.score(X_test, y_test))"
      ],
      "metadata": {
        "colab": {
          "base_uri": "https://localhost:8080/"
        },
        "id": "MqSvfoAEDVMG",
        "outputId": "9bbc6819-4467-4ac2-ad4a-fe7250771347"
      },
      "execution_count": 90,
      "outputs": [
        {
          "output_type": "stream",
          "name": "stdout",
          "text": [
            "*** SUPPORT VECTOR MACHINE ***\n",
            "Accuracy: 0.8149443715687703\n"
          ]
        }
      ]
    },
    {
      "cell_type": "markdown",
      "metadata": {
        "id": "Swsd7cdMQ9ze"
      },
      "source": [
        "# Deep NN"
      ]
    },
    {
      "cell_type": "code",
      "metadata": {
        "id": "EKY0bhFXRA--"
      },
      "source": [
        "import tensorflow\n",
        "from tensorflow.keras.models import Model\n",
        "from tensorflow.keras.layers import Input, Dense, Dropout\n",
        "from keras.optimizers import Adam\n",
        "from tensorflow.keras.callbacks import EarlyStopping\n",
        "\n",
        "import datetime\n",
        "now = datetime.datetime.now"
      ],
      "execution_count": 91,
      "outputs": []
    },
    {
      "cell_type": "code",
      "metadata": {
        "id": "kABVzxlIRBBm"
      },
      "source": [
        "# Define the layers for the network\n",
        "input_seq = Input(shape=(42,))\n",
        "\n",
        "hidden = Dense(1024, activation='relu')(input_seq)\n",
        "hidden = Dropout(0.25)(hidden)\n",
        "hidden = Dense(512, activation='relu')(hidden)\n",
        "hidden = Dropout(0.25)(hidden)\n",
        "hidden = Dense(256, activation='relu')(hidden)\n",
        "hidden = Dropout(0.25)(hidden)\n",
        "predictions = Dense(2, activation='softmax')(hidden)\n",
        "\n",
        "# The model\n",
        "model = Model(inputs=input_seq, outputs=predictions)"
      ],
      "execution_count": 92,
      "outputs": []
    },
    {
      "cell_type": "code",
      "metadata": {
        "id": "1R1RcwQHTTZO"
      },
      "source": [
        "model.compile(optimizer=Adam(learning_rate = 1e-3), loss='sparse_categorical_crossentropy', metrics=['accuracy'])"
      ],
      "execution_count": 93,
      "outputs": []
    },
    {
      "cell_type": "code",
      "metadata": {
        "colab": {
          "base_uri": "https://localhost:8080/",
          "height": 944
        },
        "id": "LxU7NrccRcal",
        "outputId": "02252821-3e7d-47ba-9e2f-b0b2c2e6618b"
      },
      "source": [
        "# Fit model\n",
        "t = now()\n",
        "callbacks = [EarlyStopping(monitor='val_accuracy', patience=30)]\n",
        "history = model.fit(X_train, y_train, batch_size=256, epochs=300,\n",
        "                     validation_split=0.2, verbose=0, callbacks=callbacks)\n",
        "\n",
        "print('Training time: %s' % (now() - t))\n",
        "\n",
        "# Plot the loss and accuracy\n",
        "train_loss = history.history['loss']\n",
        "val_loss = history.history['val_loss']\n",
        "acc = history.history['accuracy']\n",
        "val_acc = history.history['val_accuracy']\n",
        "\n",
        "epochsn = np.arange(1, len(train_loss)+1,1)\n",
        "plt.plot(epochsn,train_loss, 'b', label='Training Loss')\n",
        "plt.plot(epochsn,val_loss, 'r', label='Validation Loss')\n",
        "plt.grid(color='gray', linestyle='--')\n",
        "plt.legend()\n",
        "plt.title('LOSS')\n",
        "plt.xlabel('Epochs')\n",
        "plt.ylabel('Loss')\n",
        "\n",
        "plt.figure()\n",
        "plt.plot(epochsn, acc, 'b', label='Training Accuracy')\n",
        "plt.plot(epochsn, val_acc, 'r', label='Validation Accuracy')\n",
        "plt.grid(color='gray', linestyle='--')\n",
        "plt.legend()\n",
        "plt.title('ACCURACY')\n",
        "plt.xlabel('Epochs')\n",
        "plt.ylabel('Accuracy')\n",
        "plt.show()"
      ],
      "execution_count": 94,
      "outputs": [
        {
          "output_type": "stream",
          "name": "stdout",
          "text": [
            "Training time: 0:00:59.419110\n"
          ]
        },
        {
          "output_type": "display_data",
          "data": {
            "text/plain": [
              "<Figure size 640x480 with 1 Axes>"
            ],
            "image/png": "[encoded data removed]"
          },
          "metadata": {}
        },
        {
          "output_type": "display_data",
          "data": {
            "text/plain": [
              "<Figure size 640x480 with 1 Axes>"
            ],
            "image/png": "[encoded data removed]"
          },
          "metadata": {}
        }
      ]
    },
    {
      "cell_type": "code",
      "source": [
        "# Evaluate on test data\n",
        "evals_test = model.evaluate(X_test, y_test)\n",
        "print(\"Classification Accuracy: \", evals_test[1])"
      ],
      "metadata": {
        "colab": {
          "base_uri": "https://localhost:8080/"
        },
        "id": "jkhp8wI0hJoR",
        "outputId": "3d1fe67f-7bfb-488f-fe45-e4127d03579b"
      },
      "execution_count": 95,
      "outputs": [
        {
          "output_type": "stream",
          "name": "stdout",
          "text": [
            "\u001b[1m2573/2573\u001b[0m \u001b[32m━━━━━━━━━━━━━━━━━━━━\u001b[0m\u001b[37m\u001b[0m \u001b[1m5s\u001b[0m 2ms/step - accuracy: 0.9526 - loss: 0.0943\n",
            "Classification Accuracy:  0.87685227394104\n"
          ]
        }
      ]
    },
    {
      "cell_type": "markdown",
      "source": [
        "## Models Report"
      ],
      "metadata": {
        "id": "DNr3ppwjA5Lh"
      }
    },
    {
      "cell_type": "markdown",
      "source": [
        "The accuracy for the LR model was 78.94%, for the RF model it was 87.18%, for the DT model it was 85.84%, for the KNN model it was 84.66%, for the NB model it was 74.29%, for the SVC model it was 81.49%, and for the NN it was 87.69%. The accuracy of the LR and NB models were the lowest while the RF, DT, and KNN models were all similarly close the the NN model. The SVC model was in the middle accuracy-wise."
      ],
      "metadata": {
        "id": "IGweeyLkA7bm"
      }
    },
    {
      "cell_type": "markdown",
      "metadata": {
        "id": "QTcARkOI5cGu"
      },
      "source": [
        "# Attacks"
      ]
    },
    {
      "cell_type": "code",
      "source": [
        "# Creating adversarial test sets of 1000 samples\n",
        "\n",
        "# Define a random seed (to draw the same smamples)\n",
        "np.random.seed(2)\n",
        "\n",
        "ind = np.random.randint(1, 20000, 1000)\n",
        "\n",
        "# Set of image for testing the attacks\n",
        "adv_test_data = X_test[ind]\n",
        "adv_test_labels = y_test[ind]"
      ],
      "metadata": {
        "id": "68SdZSkGfSWd"
      },
      "execution_count": 96,
      "outputs": []
    },
    {
      "cell_type": "code",
      "metadata": {
        "id": "VLc7wCVm5kZ7"
      },
      "source": [
        "from art.estimators.classification import TensorFlowV2Classifier\n",
        "from art.attacks.evasion import FastGradientMethod"
      ],
      "execution_count": 97,
      "outputs": []
    },
    {
      "cell_type": "code",
      "metadata": {
        "id": "VK-CgTQB5kd2"
      },
      "source": [
        "classifier = TensorFlowV2Classifier(model=model, nb_classes=2,\n",
        "                                    clip_values=(0, 1), input_shape=(42,), loss_object=tensorflow.keras.losses.SparseCategoricalCrossentropy())"
      ],
      "execution_count": 98,
      "outputs": []
    },
    {
      "cell_type": "code",
      "metadata": {
        "id": "W4TCWtVQ5ojf",
        "colab": {
          "base_uri": "https://localhost:8080/"
        },
        "outputId": "bfef9f60-deb6-4343-9768-e3244c0126fa"
      },
      "source": [
        "# FGSM attack\n",
        "epsilon = [0.01, 0.025, 0.05, 0.1, 0.2, 0.3, 0.5, 0.8]\n",
        "\n",
        "fgsm_attack_acc = []\n",
        "for eps in epsilon:\n",
        "    attack_fgsm = FastGradientMethod(estimator=classifier, eps=eps)\n",
        "    fgsm_attack_adv_data = attack_fgsm.generate(adv_test_data)\n",
        "    loss_test, accuracy_test = model.evaluate(fgsm_attack_adv_data, adv_test_labels)\n",
        "    fgsm_attack_acc.append(accuracy_test)\n",
        "    perturbation = np.mean(np.abs((fgsm_attack_adv_data - adv_test_data)))\n",
        "    print('Accuracy on adversarial test data: {:4.2f}%'.format(accuracy_test * 100))\n",
        "    print('Average perturbation: {:4.2f}'.format(perturbation))"
      ],
      "execution_count": 99,
      "outputs": [
        {
          "output_type": "stream",
          "name": "stdout",
          "text": [
            "\u001b[1m32/32\u001b[0m \u001b[32m━━━━━━━━━━━━━━━━━━━━\u001b[0m\u001b[37m\u001b[0m \u001b[1m0s\u001b[0m 14ms/step - accuracy: 0.9732 - loss: 0.0915\n",
            "Accuracy on adversarial test data: 96.40%\n",
            "Average perturbation: 0.01\n",
            "\u001b[1m32/32\u001b[0m \u001b[32m━━━━━━━━━━━━━━━━━━━━\u001b[0m\u001b[37m\u001b[0m \u001b[1m0s\u001b[0m 2ms/step - accuracy: 0.9187 - loss: 0.2555\n",
            "Accuracy on adversarial test data: 90.70%\n",
            "Average perturbation: 0.02\n",
            "\u001b[1m32/32\u001b[0m \u001b[32m━━━━━━━━━━━━━━━━━━━━\u001b[0m\u001b[37m\u001b[0m \u001b[1m0s\u001b[0m 2ms/step - accuracy: 0.8501 - loss: 0.4029\n",
            "Accuracy on adversarial test data: 84.70%\n",
            "Average perturbation: 0.03\n",
            "\u001b[1m32/32\u001b[0m \u001b[32m━━━━━━━━━━━━━━━━━━━━\u001b[0m\u001b[37m\u001b[0m \u001b[1m0s\u001b[0m 2ms/step - accuracy: 0.8004 - loss: 0.7102\n",
            "Accuracy on adversarial test data: 79.80%\n",
            "Average perturbation: 0.06\n",
            "\u001b[1m32/32\u001b[0m \u001b[32m━━━━━━━━━━━━━━━━━━━━\u001b[0m\u001b[37m\u001b[0m \u001b[1m0s\u001b[0m 2ms/step - accuracy: 0.6481 - loss: 5.6909\n",
            "Accuracy on adversarial test data: 65.80%\n",
            "Average perturbation: 0.11\n",
            "\u001b[1m32/32\u001b[0m \u001b[32m━━━━━━━━━━━━━━━━━━━━\u001b[0m\u001b[37m\u001b[0m \u001b[1m0s\u001b[0m 2ms/step - accuracy: 0.6086 - loss: 16.6750\n",
            "Accuracy on adversarial test data: 61.40%\n",
            "Average perturbation: 0.16\n",
            "\u001b[1m32/32\u001b[0m \u001b[32m━━━━━━━━━━━━━━━━━━━━\u001b[0m\u001b[37m\u001b[0m \u001b[1m0s\u001b[0m 2ms/step - accuracy: 0.5639 - loss: 36.6743\n",
            "Accuracy on adversarial test data: 57.50%\n",
            "Average perturbation: 0.26\n",
            "\u001b[1m32/32\u001b[0m \u001b[32m━━━━━━━━━━━━━━━━━━━━\u001b[0m\u001b[37m\u001b[0m \u001b[1m0s\u001b[0m 2ms/step - accuracy: 0.5395 - loss: 69.1102\n",
            "Accuracy on adversarial test data: 54.70%\n",
            "Average perturbation: 0.39\n"
          ]
        }
      ]
    },
    {
      "cell_type": "code",
      "source": [
        "# Create adversarail samples and display them\n",
        "attack_fgsm = FastGradientMethod(estimator=classifier, eps=0.1)\n",
        "fgsm_attack_adv_data = attack_fgsm.generate(adv_test_data)\n",
        "\n",
        "np.set_printoptions(precision=2, suppress=True)\n",
        "print(\"First test example:\", adv_test_data[0])\n",
        "print(\"\\nFirst advesarial example:\", fgsm_attack_adv_data[0])"
      ],
      "metadata": {
        "colab": {
          "base_uri": "https://localhost:8080/"
        },
        "id": "348b0aiyDeaI",
        "outputId": "f6a4503e-c8a1-42f3-ea01-5b2a42aedc6d"
      },
      "execution_count": 100,
      "outputs": [
        {
          "output_type": "stream",
          "name": "stdout",
          "text": [
            "First test example: [0.   0.89 0.   0.25 0.   0.   0.   0.   0.   1.   0.24 0.   0.   0.\n",
            " 0.   0.   0.   0.   0.   0.   0.   0.   0.   0.   0.   0.   0.04 0.04\n",
            " 0.   0.   0.02 0.   0.02 0.   0.   0.02 0.   0.   0.   0.02 0.02 0.  ]\n",
            "\n",
            "First advesarial example: [0.   0.99 0.   0.35 0.   0.   0.   0.1  0.1  0.9  0.14 0.   0.1  0.\n",
            " 0.1  0.1  0.   0.1  0.   0.1  0.1  0.1  0.1  0.   0.   0.   0.   0.14\n",
            " 0.1  0.   0.12 0.   0.12 0.1  0.   0.   0.   0.1  0.   0.   0.12 0.1 ]\n"
          ]
        }
      ]
    },
    {
      "cell_type": "code",
      "source": [
        "# Second adversarial sample\n",
        "np.set_printoptions(precision=2, suppress=True)\n",
        "print(\"Second test example:\", adv_test_data[1])\n",
        "print(\"\\nSecond advesarial example:\", fgsm_attack_adv_data[1])"
      ],
      "metadata": {
        "colab": {
          "base_uri": "https://localhost:8080/"
        },
        "id": "OdtR2DFSFGBB",
        "outputId": "23575bba-61c9-414b-cfcc-59b2ba4fedaf"
      },
      "execution_count": 101,
      "outputs": [
        {
          "output_type": "stream",
          "name": "stdout",
          "text": [
            "Second test example: [0.   0.06 0.   0.5  0.   0.   0.   0.   0.33 1.   0.   0.04 0.   0.\n",
            " 0.   0.   0.   0.   0.   0.   0.   0.   0.   0.   0.   0.   0.04 0.\n",
            " 0.   0.   0.15 0.33 0.18 0.18 0.2  0.14 0.   0.   0.   0.15 0.15 0.  ]\n",
            "\n",
            "Second advesarial example: [0.   0.16 0.   0.6  0.   0.   0.   0.   0.43 1.   0.   0.   0.1  0.\n",
            " 0.   0.   0.   0.   0.   0.1  0.1  0.1  0.1  0.   0.1  0.   0.   0.\n",
            " 0.   0.   0.25 0.23 0.28 0.28 0.1  0.04 0.   0.   0.   0.05 0.05 0.1 ]\n"
          ]
        }
      ]
    },
    {
      "cell_type": "markdown",
      "source": [
        "### JSMA"
      ],
      "metadata": {
        "id": "2d1bnIcm5PCc"
      }
    },
    {
      "cell_type": "code",
      "source": [
        "from art.attacks.evasion import SaliencyMapMethod"
      ],
      "metadata": {
        "id": "DIhaS8AR2xay"
      },
      "execution_count": 102,
      "outputs": []
    },
    {
      "cell_type": "code",
      "source": [
        "jsma_attack = SaliencyMapMethod(\n",
        "    classifier=classifier,\n",
        "    theta=1.0,\n",
        "    gamma=0.1,\n",
        "    batch_size=1,\n",
        "    verbose=True\n",
        ")\n",
        "jsma_attack_adv_data = jsma_attack.generate(adv_test_data)\n",
        "loss_test, accuracy_test = model.evaluate(jsma_attack_adv_data, adv_test_labels)\n",
        "fgsm_attack_acc.append(accuracy_test)\n",
        "perturbation = np.mean(np.abs((jsma_attack_adv_data - adv_test_data)))\n",
        "print('Accuracy on adversarial test data: {:4.2f}%'.format(accuracy_test * 100))\n",
        "print('Average perturbation: {:4.2f}'.format(perturbation))\n",
        "jsma_attack = SaliencyMapMethod(\n",
        "    classifier=classifier,\n",
        "    theta=-1.0,\n",
        "    gamma=0.1,\n",
        "    batch_size=1,\n",
        "    verbose=True\n",
        ")\n",
        "jsma_attack_adv_data = jsma_attack.generate(adv_test_data)\n",
        "loss_test, accuracy_test = model.evaluate(jsma_attack_adv_data, adv_test_labels)\n",
        "fgsm_attack_acc.append(accuracy_test)\n",
        "perturbation = np.mean(np.abs((jsma_attack_adv_data - adv_test_data)))\n",
        "print('Accuracy on adversarial test data: {:4.2f}%'.format(accuracy_test * 100))\n",
        "print('Average perturbation: {:4.2f}'.format(perturbation))\n",
        "jsma_attack = SaliencyMapMethod(\n",
        "    classifier=classifier,\n",
        "    theta=1.0,\n",
        "    gamma=0.01,\n",
        "    batch_size=1,\n",
        "    verbose=True\n",
        ")\n",
        "jsma_attack_adv_data = jsma_attack.generate(adv_test_data)\n",
        "loss_test, accuracy_test = model.evaluate(jsma_attack_adv_data, adv_test_labels)\n",
        "fgsm_attack_acc.append(accuracy_test)\n",
        "perturbation = np.mean(np.abs((jsma_attack_adv_data - adv_test_data)))\n",
        "print('Accuracy on adversarial test data: {:4.2f}%'.format(accuracy_test * 100))\n",
        "print('Average perturbation: {:4.2f}'.format(perturbation))"
      ],
      "metadata": {
        "colab": {
          "base_uri": "https://localhost:8080/",
          "height": 307,
          "referenced_widgets": [
            "77c3219ead1b4025a17c43b201c1c876",
            "30d47b40037047c681168c42c5c30fee",
            "80ed3934b58145919304cf8edaffeca0",
            "07880aa8dfd545b492acdd57de418a27",
            "3a5825ca59e047728c1390039d714398",
            "d9653de2e5a54d9b91c2de3f2f38f928",
            "dea882988036491f9dab7352015fd875",
            "f490d4b9ce6e4e748b478cd0f4bb0c3e",
            "c4973c181cca4077a4d8fa51c6e315c9",
            "55907d7222d04e17b20541866ac61d03",
            "e9916dd4be274ee18127bbbfa9fa4bef",
            "5481f2f6c56e4451808a6f36012ee857",
            "13f42781f00343498d4e20afd77de902",
            "e165ac6cd8224f999c33e831b23a28c5",
            "ca49d06737014c1da318c9d59b5335a0",
            "55844fa5c096420181f36c4cdf5a08bc",
            "9bffcf40b91640c7a6326d4363412e3e",
            "53b58ff3a0974aa9bb8496eb5349be00",
            "ba24b5552e0e4c3dba08ad1cfe9830f1",
            "7dda5415c3404be6924e4e46c7cfb7ed",
            "5ede206d222f4460a4d1b16caf28d5b0",
            "a5d869bc460d43519c03a4d448fcd3e8",
            "1c1b1c6ff6c94b888564119c6ddb0d47",
            "5b5c85b7328a474da087c43a583a3578",
            "f63da0b87c094831b1fb8d62b2800ec3",
            "181b11668ad84d6495e31d2a8a4fd877",
            "f09408eec22c40889c82abe50dd1f15f",
            "3f3b8b317c184e78bf4f7aad362fbda3",
            "33052d80810344c9856003ad6088b5b9",
            "0624054af46d490f920117295c781e6d",
            "9379e29b4d0e4ba890f3e4902e0beb24",
            "5c07bdb44e684a27879741c39ca4c8cb",
            "b4c6abb432464ce8bf3f52ce3ad78d8e"
          ]
        },
        "id": "7HZpeCTw200P",
        "outputId": "cb19f82c-b60c-474b-828e-0b038e8b5376"
      },
      "execution_count": 103,
      "outputs": [
        {
          "output_type": "display_data",
          "data": {
            "text/plain": [
              "JSMA:   0%|          | 0/1000 [00:00<?, ?it/s]"
            ],
            "application/vnd.jupyter.widget-view+json": {
              "version_major": 2,
              "version_minor": 0,
              "model_id": "77c3219ead1b4025a17c43b201c1c876"
            }
          },
          "metadata": {}
        },
        {
          "output_type": "stream",
          "name": "stderr",
          "text": [
            "WARNING:tensorflow:Calling GradientTape.gradient on a persistent tape inside its context is significantly less efficient than calling it outside the context (it causes the gradient ops to be recorded on the tape, leading to increased CPU and memory usage). Only call GradientTape.gradient inside the context if you actually want to trace the gradient in order to compute higher order derivatives.\n"
          ]
        },
        {
          "output_type": "stream",
          "name": "stdout",
          "text": [
            "\u001b[1m32/32\u001b[0m \u001b[32m━━━━━━━━━━━━━━━━━━━━\u001b[0m\u001b[37m\u001b[0m \u001b[1m0s\u001b[0m 3ms/step - accuracy: 0.0569 - loss: 18.5926\n",
            "Accuracy on adversarial test data: 6.30%\n",
            "Average perturbation: 0.07\n"
          ]
        },
        {
          "output_type": "display_data",
          "data": {
            "text/plain": [
              "JSMA:   0%|          | 0/1000 [00:00<?, ?it/s]"
            ],
            "application/vnd.jupyter.widget-view+json": {
              "version_major": 2,
              "version_minor": 0,
              "model_id": "5481f2f6c56e4451808a6f36012ee857"
            }
          },
          "metadata": {}
        },
        {
          "output_type": "stream",
          "name": "stdout",
          "text": [
            "\u001b[1m32/32\u001b[0m \u001b[32m━━━━━━━━━━━━━━━━━━━━\u001b[0m\u001b[37m\u001b[0m \u001b[1m0s\u001b[0m 2ms/step - accuracy: 0.5433 - loss: 2.9900\n",
            "Accuracy on adversarial test data: 54.70%\n",
            "Average perturbation: 0.02\n"
          ]
        },
        {
          "output_type": "display_data",
          "data": {
            "text/plain": [
              "JSMA:   0%|          | 0/1000 [00:00<?, ?it/s]"
            ],
            "application/vnd.jupyter.widget-view+json": {
              "version_major": 2,
              "version_minor": 0,
              "model_id": "1c1b1c6ff6c94b888564119c6ddb0d47"
            }
          },
          "metadata": {}
        },
        {
          "output_type": "stream",
          "name": "stdout",
          "text": [
            "\u001b[1m32/32\u001b[0m \u001b[32m━━━━━━━━━━━━━━━━━━━━\u001b[0m\u001b[37m\u001b[0m \u001b[1m0s\u001b[0m 2ms/step - accuracy: 0.6125 - loss: 4.3612\n",
            "Accuracy on adversarial test data: 60.50%\n",
            "Average perturbation: 0.04\n"
          ]
        }
      ]
    },
    {
      "cell_type": "code",
      "source": [
        "# Create adversarail samples and display them\n",
        "attack_jsma = jsma_attack = SaliencyMapMethod(\n",
        "    classifier=classifier,\n",
        "    theta=1.0,\n",
        "    gamma=0.1,\n",
        "    batch_size=1,\n",
        "    verbose=True\n",
        ")\n",
        "jsma_attack_adv_data = attack_jsma.generate(adv_test_data)\n",
        "\n",
        "np.set_printoptions(precision=2, suppress=True)\n",
        "print(\"First test example:\", adv_test_data[0])\n",
        "print(\"\\nFirst advesarial example:\", jsma_attack_adv_data[0])"
      ],
      "metadata": {
        "colab": {
          "base_uri": "https://localhost:8080/",
          "height": 171,
          "referenced_widgets": [
            "27a67071503047da9fd85f89d9521f21",
            "9c9bd8f92bc148aaaceb6d93301b9644",
            "288a4e60d7a24193812f55bcfe90bfe2",
            "3e067d56f2ab414ab6e0afff69b959b6",
            "c31102b76a344920ad7f8a54a3b61c7f",
            "c8aa81b570fc4754a34eeb18ae5c9d89",
            "edbfcbeb3aa64f8e96395b822d73ae77",
            "5b4d943ced404b0990496bf5c805d8f6",
            "dccd8e7e373f4a03a781666efa5dc79e",
            "b4b1c9a46d5a44d7914ede18cb3706fe",
            "a697bd8574674f23a86d0b494102e88e"
          ]
        },
        "id": "CpYQKV8_4H37",
        "outputId": "c27bc7dc-a0a2-46a3-f1d8-765eebb45640"
      },
      "execution_count": 104,
      "outputs": [
        {
          "output_type": "display_data",
          "data": {
            "text/plain": [
              "JSMA:   0%|          | 0/1000 [00:00<?, ?it/s]"
            ],
            "application/vnd.jupyter.widget-view+json": {
              "version_major": 2,
              "version_minor": 0,
              "model_id": "27a67071503047da9fd85f89d9521f21"
            }
          },
          "metadata": {}
        },
        {
          "output_type": "stream",
          "name": "stdout",
          "text": [
            "First test example: [0.   0.89 0.   0.25 0.   0.   0.   0.   0.   1.   0.24 0.   0.   0.\n",
            " 0.   0.   0.   0.   0.   0.   0.   0.   0.   0.   0.   0.   0.04 0.04\n",
            " 0.   0.   0.02 0.   0.02 0.   0.   0.02 0.   0.   0.   0.02 0.02 0.  ]\n",
            "\n",
            "First advesarial example: [0.   0.89 0.   0.25 0.   0.   0.   0.   0.   1.   0.24 0.   0.   0.\n",
            " 0.   0.   0.   0.   0.   0.   0.   0.   0.   0.   0.   0.   0.04 0.04\n",
            " 0.   0.   1.   0.   0.02 1.   0.   0.02 0.   0.   0.   0.02 0.02 0.  ]\n"
          ]
        }
      ]
    },
    {
      "cell_type": "code",
      "source": [
        "# Second adversarial sample\n",
        "np.set_printoptions(precision=2, suppress=True)\n",
        "print(\"Second test example:\", adv_test_data[1])\n",
        "print(\"\\nSecond advesarial example:\", jsma_attack_adv_data[1])"
      ],
      "metadata": {
        "colab": {
          "base_uri": "https://localhost:8080/"
        },
        "id": "HVR3B4IC4J9v",
        "outputId": "e6d35f5b-ed15-4718-c14b-7c5df11e8278"
      },
      "execution_count": 105,
      "outputs": [
        {
          "output_type": "stream",
          "name": "stdout",
          "text": [
            "Second test example: [0.   0.06 0.   0.5  0.   0.   0.   0.   0.33 1.   0.   0.04 0.   0.\n",
            " 0.   0.   0.   0.   0.   0.   0.   0.   0.   0.   0.   0.   0.04 0.\n",
            " 0.   0.   0.15 0.33 0.18 0.18 0.2  0.14 0.   0.   0.   0.15 0.15 0.  ]\n",
            "\n",
            "Second advesarial example: [0.   0.06 0.   0.5  0.   0.   0.   0.   0.33 1.   0.   0.04 0.   0.\n",
            " 0.   0.   0.   0.   0.   0.   1.   0.   0.   0.   0.   0.   0.04 0.\n",
            " 0.   0.   0.15 0.33 0.18 1.   0.2  0.14 0.   0.   0.   0.15 0.15 0.  ]\n"
          ]
        }
      ]
    },
    {
      "cell_type": "markdown",
      "source": [
        "### FGSM against LR model"
      ],
      "metadata": {
        "id": "H52vmM-d5T10"
      }
    },
    {
      "cell_type": "code",
      "source": [
        "from art.estimators.classification import SklearnClassifier"
      ],
      "metadata": {
        "id": "685P83DQ6A5d"
      },
      "execution_count": 106,
      "outputs": []
    },
    {
      "cell_type": "code",
      "source": [
        "classifier_lr = SklearnClassifier(model=model_lr)"
      ],
      "metadata": {
        "id": "2qgQ6Oej5MT-"
      },
      "execution_count": 107,
      "outputs": []
    },
    {
      "cell_type": "code",
      "source": [
        "fgsm_attack_acc = []\n",
        "for eps in epsilon:\n",
        "    attack_fgsm = FastGradientMethod(estimator=classifier_lr, eps=eps)\n",
        "    fgsm_attack_adv_data = attack_fgsm.generate(adv_test_data)\n",
        "    loss_test, accuracy_test = model.evaluate(fgsm_attack_adv_data, adv_test_labels)\n",
        "    fgsm_attack_acc.append(accuracy_test)\n",
        "    perturbation = np.mean(np.abs((fgsm_attack_adv_data - adv_test_data)))\n",
        "    print('Accuracy on adversarial test data: {:4.2f}%'.format(accuracy_test * 100))\n",
        "    print('Average perturbation: {:4.2f}'.format(perturbation))"
      ],
      "metadata": {
        "colab": {
          "base_uri": "https://localhost:8080/"
        },
        "id": "-2qam0Ty5bQo",
        "outputId": "4434d718-9165-4202-fadd-f62d3c66bae2"
      },
      "execution_count": 108,
      "outputs": [
        {
          "output_type": "stream",
          "name": "stdout",
          "text": [
            "\u001b[1m32/32\u001b[0m \u001b[32m━━━━━━━━━━━━━━━━━━━━\u001b[0m\u001b[37m\u001b[0m \u001b[1m0s\u001b[0m 2ms/step - accuracy: 0.9776 - loss: 0.0535\n",
            "Accuracy on adversarial test data: 97.60%\n",
            "Average perturbation: 0.01\n",
            "\u001b[1m32/32\u001b[0m \u001b[32m━━━━━━━━━━━━━━━━━━━━\u001b[0m\u001b[37m\u001b[0m \u001b[1m0s\u001b[0m 2ms/step - accuracy: 0.9064 - loss: 0.2494\n",
            "Accuracy on adversarial test data: 90.80%\n",
            "Average perturbation: 0.02\n",
            "\u001b[1m32/32\u001b[0m \u001b[32m━━━━━━━━━━━━━━━━━━━━\u001b[0m\u001b[37m\u001b[0m \u001b[1m0s\u001b[0m 2ms/step - accuracy: 0.8464 - loss: 0.7764\n",
            "Accuracy on adversarial test data: 85.50%\n",
            "Average perturbation: 0.05\n",
            "\u001b[1m32/32\u001b[0m \u001b[32m━━━━━━━━━━━━━━━━━━━━\u001b[0m\u001b[37m\u001b[0m \u001b[1m0s\u001b[0m 2ms/step - accuracy: 0.2402 - loss: 4.7546\n",
            "Accuracy on adversarial test data: 24.50%\n",
            "Average perturbation: 0.10\n",
            "\u001b[1m32/32\u001b[0m \u001b[32m━━━━━━━━━━━━━━━━━━━━\u001b[0m\u001b[37m\u001b[0m \u001b[1m0s\u001b[0m 2ms/step - accuracy: 0.0118 - loss: 48.0919\n",
            "Accuracy on adversarial test data: 1.00%\n",
            "Average perturbation: 0.20\n",
            "\u001b[1m32/32\u001b[0m \u001b[32m━━━━━━━━━━━━━━━━━━━━\u001b[0m\u001b[37m\u001b[0m \u001b[1m0s\u001b[0m 2ms/step - accuracy: 0.0118 - loss: 144.6020\n",
            "Accuracy on adversarial test data: 1.00%\n",
            "Average perturbation: 0.30\n",
            "\u001b[1m32/32\u001b[0m \u001b[32m━━━━━━━━━━━━━━━━━━━━\u001b[0m\u001b[37m\u001b[0m \u001b[1m0s\u001b[0m 2ms/step - accuracy: 0.0118 - loss: 407.9594\n",
            "Accuracy on adversarial test data: 1.00%\n",
            "Average perturbation: 0.50\n",
            "\u001b[1m32/32\u001b[0m \u001b[32m━━━━━━━━━━━━━━━━━━━━\u001b[0m\u001b[37m\u001b[0m \u001b[1m0s\u001b[0m 2ms/step - accuracy: 0.0118 - loss: 851.2615\n",
            "Accuracy on adversarial test data: 1.00%\n",
            "Average perturbation: 0.80\n"
          ]
        }
      ]
    },
    {
      "cell_type": "code",
      "source": [
        "# Create adversarail samples and display them\n",
        "attack_fgsm = FastGradientMethod(estimator=classifier_lr, eps=0.1)\n",
        "fgsm_attack_adv_data = attack_fgsm.generate(adv_test_data)\n",
        "\n",
        "np.set_printoptions(precision=2, suppress=True)\n",
        "print(\"First test example:\", adv_test_data[0])\n",
        "print(\"\\nFirst advesarial example:\", fgsm_attack_adv_data[0])"
      ],
      "metadata": {
        "colab": {
          "base_uri": "https://localhost:8080/"
        },
        "id": "z-r4ptFm5fMa",
        "outputId": "cf209df0-c998-427f-a714-e9315667573c"
      },
      "execution_count": 109,
      "outputs": [
        {
          "output_type": "stream",
          "name": "stdout",
          "text": [
            "First test example: [0.   0.89 0.   0.25 0.   0.   0.   0.   0.   1.   0.24 0.   0.   0.\n",
            " 0.   0.   0.   0.   0.   0.   0.   0.   0.   0.   0.   0.   0.04 0.04\n",
            " 0.   0.   0.02 0.   0.02 0.   0.   0.02 0.   0.   0.   0.02 0.02 0.  ]\n",
            "\n",
            "First advesarial example: [-0.1   0.99 -0.1   0.15 -0.1  -0.1  -0.1   0.1  -0.1   0.9   0.14  0.1\n",
            "  0.1  -0.1   0.1   0.1   0.1   0.1  -0.1   0.1   0.1  -0.1   0.1   0.1\n",
            "  0.1  -0.1   0.14 -0.06  0.1   0.1   0.12 -0.1  -0.08 -0.1  -0.1  -0.08\n",
            " -0.1  -0.1   0.1  -0.08  0.12  0.1 ]\n"
          ]
        }
      ]
    },
    {
      "cell_type": "code",
      "source": [
        "# Second adversarial sample\n",
        "np.set_printoptions(precision=2, suppress=True)\n",
        "print(\"Second test example:\", adv_test_data[1])\n",
        "print(\"\\nSecond advesarial example:\", fgsm_attack_adv_data[1])"
      ],
      "metadata": {
        "colab": {
          "base_uri": "https://localhost:8080/"
        },
        "id": "_WCqAAcy5hJo",
        "outputId": "2dd0e72e-b86f-4219-b51c-8a8b06db8767"
      },
      "execution_count": 110,
      "outputs": [
        {
          "output_type": "stream",
          "name": "stdout",
          "text": [
            "Second test example: [0.   0.06 0.   0.5  0.   0.   0.   0.   0.33 1.   0.   0.04 0.   0.\n",
            " 0.   0.   0.   0.   0.   0.   0.   0.   0.   0.   0.   0.   0.04 0.\n",
            " 0.   0.   0.15 0.33 0.18 0.18 0.2  0.14 0.   0.   0.   0.15 0.15 0.  ]\n",
            "\n",
            "Second advesarial example: [-0.1   0.16 -0.1   0.4  -0.1  -0.1  -0.1   0.1   0.23  0.9  -0.1   0.14\n",
            "  0.1  -0.1   0.1   0.1   0.1   0.1  -0.1   0.1   0.1  -0.1   0.1   0.1\n",
            "  0.1  -0.1   0.14 -0.1   0.1   0.1   0.25  0.23  0.08  0.08  0.1   0.04\n",
            " -0.1  -0.1   0.1   0.05  0.25  0.1 ]\n"
          ]
        }
      ]
    },
    {
      "cell_type": "markdown",
      "source": [
        "## Attacks Report"
      ],
      "metadata": {
        "id": "o6BsckoKH4Ze"
      }
    },
    {
      "cell_type": "markdown",
      "source": [
        "The accuracy against the FGSM attack on the deep learning model was 54.70%, against the JSMA it was 60.50%, and against the FGSM attack on the linear regression model it was 1.00%. Due to the deep learning model being complex and having non-linear decision boundaries the FGSM attack against it was succesful, but the model still showed some success. Since the JSMA is more targeted and precise, meaning less destructive, it resulted in a worse showing than the FGSM attack. The FGSM attack on the linear regression model was so succesful because the model has simple linear decision boundaries, which this specific attack are especially good at targetting."
      ],
      "metadata": {
        "id": "MFeDgZbnH68M"
      }
    }
  ]
}